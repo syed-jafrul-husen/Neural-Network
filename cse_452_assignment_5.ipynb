{
 "cells": [
  {
   "cell_type": "markdown",
   "metadata": {},
   "source": [
    "#### CSE 452: Neural Networks and Fuzzy Systems Lab\n",
    "Summer-2020, Dept. of CSE, NEUB <br>"
   ]
  },
  {
   "cell_type": "markdown",
   "metadata": {},
   "source": [
    "#### Student Info\n",
    "<b>Name:</b> Syed Jafrul Husen<br>\n",
    "<b>Reg. No:</b> 170103020013"
   ]
  },
  {
   "cell_type": "markdown",
   "metadata": {},
   "source": [
    "### Assignment 5: Fully Connected Layer"
   ]
  },
  {
   "cell_type": "code",
   "execution_count": 1,
   "metadata": {},
   "outputs": [],
   "source": [
    "import numpy as np\n",
    "import matplotlib.pyplot as plt\n",
    "from sklearn.model_selection import train_test_split \n",
    "from sklearn.metrics import classification_report, confusion_matrix ,  accuracy_score\n",
    "from sklearn import datasets "
   ]
  },
  {
   "cell_type": "markdown",
   "metadata": {},
   "source": [
    "<b>Toy data</b>"
   ]
  },
  {
   "cell_type": "code",
   "execution_count": 2,
   "metadata": {},
   "outputs": [
    {
     "name": "stdout",
     "output_type": "stream",
     "text": [
      "(6, 2) (6, 2)\n"
     ]
    }
   ],
   "source": [
    "X=np.array([[1, 2], [4, 5], [12, 7], [16, 10], [20, 5], [5, 8]  ])\n",
    "y=np.array([[0,1], [0,1], [1,0], [1,0],  [0,1], [1,0] ])\n",
    "print(X.shape, y.shape)"
   ]
  },
  {
   "cell_type": "code",
   "execution_count": 3,
   "metadata": {},
   "outputs": [
    {
     "name": "stdout",
     "output_type": "stream",
     "text": [
      "[[0 1]\n",
      " [0 1]\n",
      " [1 0]\n",
      " [1 0]\n",
      " [0 1]\n",
      " [1 0]]\n"
     ]
    }
   ],
   "source": [
    "print(y)"
   ]
  },
  {
   "cell_type": "markdown",
   "metadata": {},
   "source": [
    "<b>Softmax</b>\n",
    "$$Let, a=[a_0, a_1, a_2, ..]$$\n",
    "$$S_i=\\frac{e^{a_i}}{\\sum_{k=0}^{N} {e^{a_k}}}$$"
   ]
  },
  {
   "cell_type": "markdown",
   "metadata": {},
   "source": [
    "<b>Task 1: Implement Softmax</b> <br>\n",
    "1. Implement both ways: Using loop and Without using loop. <br>\n",
    "2. What challanges did you face?\n",
    "3. Check output manually."
   ]
  },
  {
   "cell_type": "code",
   "execution_count": 4,
   "metadata": {},
   "outputs": [
    {
     "name": "stdout",
     "output_type": "stream",
     "text": [
      "[[1.2 1.6]\n",
      " [2.4 3.4]\n",
      " [3.8 5.8]\n",
      " [5.1 7.8]\n",
      " [4.  6.6]\n",
      " [3.4 4.8]]\n"
     ]
    }
   ],
   "source": [
    "z=np.array( [ [1.2, 1.6], [2.4, 3.4],  [3.8, 5.8],  [5.1, 7.8],  [4. , 6.6],   [3.4, 4.8]])\n",
    "print(z)"
   ]
  },
  {
   "cell_type": "code",
   "execution_count": 5,
   "metadata": {},
   "outputs": [
    {
     "name": "stdout",
     "output_type": "stream",
     "text": [
      "[[0.40131234 0.59868766]\n",
      " [0.26894142 0.73105858]\n",
      " [0.11920292 0.88079708]\n",
      " [0.06297336 0.93702664]\n",
      " [0.06913842 0.93086158]\n",
      " [0.19781611 0.80218389]]\n"
     ]
    }
   ],
   "source": [
    "#your code goes here.\n",
    "#Softmax implementation using loop\n",
    "a = np.zeros([2])\n",
    "A = []\n",
    "for i in range(len(z)):\n",
    "    a[0] = np.exp(z[i,0])/(np.exp(z[i,0])+np.exp(z[i,1]))\n",
    "    a[1] = np.exp(z[i,1])/(np.exp(z[i,0])+np.exp(z[i,1]))\n",
    "    A.append([a[0],a[1]])\n",
    "    #print(a)\n",
    "A=np.array(A)\n",
    "print(A)"
   ]
  },
  {
   "cell_type": "code",
   "execution_count": 6,
   "metadata": {},
   "outputs": [
    {
     "name": "stdout",
     "output_type": "stream",
     "text": [
      "[[0.40131234 0.59868766]\n",
      " [0.26894142 0.73105858]\n",
      " [0.11920292 0.88079708]\n",
      " [0.06297336 0.93702664]\n",
      " [0.06913842 0.93086158]\n",
      " [0.19781611 0.80218389]]\n"
     ]
    }
   ],
   "source": [
    "#Softmax Implementation without using loop\n",
    "from sklearn.utils.extmath import softmax\n",
    "library_A = softmax(z)\n",
    "print(library_A)"
   ]
  },
  {
   "cell_type": "markdown",
   "metadata": {},
   "source": [
    "<b>Task 2: calculate feedforward output</b><br><br>\n",
    "$A=softmax(X.w+b)$\n",
    "\n",
    "Output should look like the following. <br>\n",
    "\n",
    "[[0.401 0.599] <br>\n",
    " [0.269 0.731] <br>\n",
    " [0.119 0.881] <br>\n",
    " [0.063 0.937] <br>\n",
    " [0.069 0.931] <br>\n",
    " [0.198 0.802]]"
   ]
  },
  {
   "cell_type": "code",
   "execution_count": 7,
   "metadata": {},
   "outputs": [],
   "source": [
    "b=np.array([0.5, 0.6])\n",
    "w=np.array([ [0.1,0.2], [0.3,0.4] ])"
   ]
  },
  {
   "cell_type": "code",
   "execution_count": 8,
   "metadata": {},
   "outputs": [
    {
     "name": "stdout",
     "output_type": "stream",
     "text": [
      "[[1.2 1.6]\n",
      " [2.4 3.4]\n",
      " [3.8 5.8]\n",
      " [5.1 7.8]\n",
      " [4.  6.6]\n",
      " [3.4 4.8]]\n"
     ]
    }
   ],
   "source": [
    "#your code goes here.\n",
    "z=np.dot(X,w)+b\n",
    "print(z)"
   ]
  },
  {
   "cell_type": "code",
   "execution_count": 9,
   "metadata": {},
   "outputs": [
    {
     "name": "stdout",
     "output_type": "stream",
     "text": [
      "[[0.40131234 0.59868766]\n",
      " [0.26894142 0.73105858]\n",
      " [0.11920292 0.88079708]\n",
      " [0.06297336 0.93702664]\n",
      " [0.06913842 0.93086158]\n",
      " [0.19781611 0.80218389]]\n"
     ]
    }
   ],
   "source": [
    "A=softmax(z)\n",
    "print(A)"
   ]
  },
  {
   "cell_type": "markdown",
   "metadata": {},
   "source": [
    "<b>Task 3: calculate log loss</b><br><br> \n",
    "Note: <b>without using any loop.</b> <br>\n",
    "$$L_i = - y_i* \\sum \\log (A_i)$$\n",
    "\\begin{equation*}\n",
    "L =\\frac{1}{N} \\sum_i L_i \n",
    "\\end{equation*}\n",
    "\n",
    "Output should look like the following. <br>\n",
    "Loss: [0.513 0.313 2.127 2.765 0.072 1.62 ] <br>\n",
    "average loss: 1.2351"
   ]
  },
  {
   "cell_type": "code",
   "execution_count": 10,
   "metadata": {},
   "outputs": [
    {
     "name": "stdout",
     "output_type": "stream",
     "text": [
      "Loss:  [0.5130152523999524, 0.3132616875182228, 2.126928011042973, 2.7650435617765905, 0.07164469196766994, 1.620417409918451]\n",
      "Average loss:  1.2350517691039766\n"
     ]
    }
   ],
   "source": [
    "#your code goes here.\n",
    "#Loss calculation using loop\n",
    "loss=[]\n",
    "for i in range(len(y)):\n",
    "    t = (-y[i,0] * np.log(A[i,0])) - (y[i,1] * np.log(A[i,1]))\n",
    "    loss.append(t)\n",
    "print('Loss: ',loss)\n",
    "avg_loss=np.mean(loss)\n",
    "print('Average loss: ',avg_loss)"
   ]
  },
  {
   "cell_type": "code",
   "execution_count": 11,
   "metadata": {},
   "outputs": [
    {
     "name": "stdout",
     "output_type": "stream",
     "text": [
      "Loss:  [0.51301525 0.31326169 2.12692801 2.76504356 0.07164469 1.62041741]\n",
      "Average loss:  1.2350517691039766\n"
     ]
    }
   ],
   "source": [
    "#Loss calculation without using loop\n",
    "loss=np.sum(-y*np.log(A),axis=1)\n",
    "print('Loss: ',loss)\n",
    "avg_loss=np.mean(loss)\n",
    "print('Average loss: ',avg_loss)"
   ]
  },
  {
   "cell_type": "markdown",
   "metadata": {},
   "source": [
    "<b>Task 4: calculate gradient</b><br>\n",
    "Note: <b>calculate dz, dw, db without using loop</b> </br>\n",
    "$$dz=A-y$$ \n",
    "$$dw=\\frac{1}{N} ( X^T.dz )$$   \n",
    "$$db=\\frac{1}{N} \\sum dz $$ \n",
    "\n",
    "Dimension check: y-yh= (2xN).(NX2)=(2x2) \n",
    "\n",
    "dw should look like below, <br>\n",
    "[[-4.452,  4.452], <br>\n",
    "[-3.243,  3.243]])\n",
    "\n",
    "db should look like below<br>\n",
    "[[-0.313,  0.313]]"
   ]
  },
  {
   "cell_type": "code",
   "execution_count": 12,
   "metadata": {},
   "outputs": [
    {
     "name": "stdout",
     "output_type": "stream",
     "text": [
      "dz =  [[ 0.40131234 -0.40131234]\n",
      " [ 0.26894142 -0.26894142]\n",
      " [-0.88079708  0.88079708]\n",
      " [-0.93702664  0.93702664]\n",
      " [ 0.06913842 -0.06913842]\n",
      " [-0.80218389  0.80218389]] \n",
      "\n",
      "dw =  [[-4.45217737  4.45217737]\n",
      " [-3.2433822   3.2433822 ]] \n",
      "\n",
      "db =  [-0.3134359  0.3134359] \n",
      "\n"
     ]
    }
   ],
   "source": [
    "#your code goes here.\n",
    "dz=A-y\n",
    "\n",
    "𝑑𝑤=np.dot(𝑋.𝑇,𝑑𝑧)/len(dz)\n",
    "\n",
    "𝑑b=np.mean(dz,axis=0)\n",
    "\n",
    "print('dz = ',dz,'\\n')\n",
    "print('dw = ',dw,'\\n')\n",
    "print('db = ',db,'\\n')"
   ]
  },
  {
   "cell_type": "markdown",
   "metadata": {},
   "source": [
    "<b>Task 5: Train the network using gradient descent optimization</b>"
   ]
  },
  {
   "cell_type": "code",
   "execution_count": 13,
   "metadata": {},
   "outputs": [],
   "source": [
    "lr=0.01\n",
    "epoch=1000"
   ]
  },
  {
   "cell_type": "code",
   "execution_count": 14,
   "metadata": {},
   "outputs": [],
   "source": [
    "#init w and b randomly.\n",
    "D=X.shape[1]\n",
    "C=y.shape[1]\n",
    "w = 0.01 * np.random.randn(D,C)\n",
    "b = np.zeros((1,C))"
   ]
  },
  {
   "cell_type": "markdown",
   "metadata": {},
   "source": [
    " 1. Init w and b randomly\n",
    " 2. repeat the following\n",
    "     3. calculate feedforward output\n",
    "     4. calculate gradient\n",
    "     5. update w and b (w=w-lr\\*dw,  b=b-lr*db)\n",
    "     6. calculate loss and keep track.\n",
    "\n",
    "7. After training plot the loss\n",
    "8. test prediction on the X data"
   ]
  },
  {
   "cell_type": "code",
   "execution_count": 15,
   "metadata": {},
   "outputs": [],
   "source": [
    "#your code goes here.\n",
    "avg_loss=[]\n",
    "\n",
    "for i in range(epoch):\n",
    "    z=np.dot(X,w)+b\n",
    "    A=softmax(z)\n",
    "    dz=A-y\n",
    "    𝑑𝑤=np.dot(𝑋.𝑇,𝑑𝑧)/len(dz)\n",
    "    𝑑b=np.mean(dz,axis=0)\n",
    "    \n",
    "    w=w-lr*dw \n",
    "    b=b-lr*db\n",
    "    loss=np.sum(-y*np.log(A),axis=1)\n",
    "    avg_loss.append(np.mean(loss))"
   ]
  },
  {
   "cell_type": "code",
   "execution_count": 16,
   "metadata": {},
   "outputs": [],
   "source": [
    "#print(avg_loss)"
   ]
  },
  {
   "cell_type": "code",
   "execution_count": 17,
   "metadata": {},
   "outputs": [
    {
     "data": {
      "text/plain": [
       "[<matplotlib.lines.Line2D at 0x1f508134188>]"
      ]
     },
     "execution_count": 17,
     "metadata": {},
     "output_type": "execute_result"
    },
    {
     "data": {
      "image/png": "[encoded data removed]",
      "text/plain": [
       "<Figure size 432x288 with 1 Axes>"
      ]
     },
     "metadata": {
      "needs_background": "light"
     },
     "output_type": "display_data"
    }
   ],
   "source": [
    "plt.plot(avg_loss)"
   ]
  },
  {
   "cell_type": "code",
   "execution_count": 18,
   "metadata": {},
   "outputs": [
    {
     "name": "stdout",
     "output_type": "stream",
     "text": [
      "w =  [[-0.05502454  0.05483907]\n",
      " [ 0.28493685 -0.29635987]] \n",
      "\n",
      "b =  [[-1.04548663  1.04548663]] \n",
      "\n",
      "A =  [[0.26148906 0.73851094]\n",
      " [0.59292147 0.40707853]\n",
      " [0.65920206 0.34079794]\n",
      " [0.87698419 0.12301581]\n",
      " [0.20072617 0.79927383]\n",
      " [0.8818516  0.1181484 ]] \n",
      "\n"
     ]
    }
   ],
   "source": [
    "z=np.dot(X,w)+b\n",
    "A=softmax(z)\n",
    "\n",
    "print('w = ',w,'\\n')\n",
    "print('b = ',b,'\\n')\n",
    "print('A = ',A,'\\n')"
   ]
  },
  {
   "cell_type": "code",
   "execution_count": 19,
   "metadata": {},
   "outputs": [
    {
     "name": "stdout",
     "output_type": "stream",
     "text": [
      "predicted \n",
      " [[0. 1.]\n",
      " [1. 0.]\n",
      " [1. 0.]\n",
      " [1. 0.]\n",
      " [0. 1.]\n",
      " [1. 0.]] \n",
      "\n",
      "Original \n",
      " [[0 1]\n",
      " [0 1]\n",
      " [1 0]\n",
      " [1 0]\n",
      " [0 1]\n",
      " [1 0]]\n",
      "\n",
      " Accuracy :->  83.33333333333334 %\n"
     ]
    }
   ],
   "source": [
    "k=0\n",
    "for i in A:\n",
    "    idx=i.tolist().index(max(i))\n",
    "    A[k]=([0 if j!=idx else 1 for j in range(len(i))])\n",
    "    k+=1\n",
    "\n",
    "\n",
    "print(\"predicted \\n\",A,'\\n')\n",
    "print(\"Original \\n\",y)\n",
    "\n",
    "cunt=0\n",
    "for i,j in zip(A,y):\n",
    "    result= i==j\n",
    "    if(all(result)):\n",
    "        cunt+=1\n",
    "\n",
    "print('\\n',\"Accuracy :-> \",(cunt/len(y))*100,\"%\")"
   ]
  },
  {
   "cell_type": "markdown",
   "metadata": {},
   "source": [
    "<b>Digits Data</b>"
   ]
  },
  {
   "cell_type": "code",
   "execution_count": 20,
   "metadata": {},
   "outputs": [],
   "source": [
    "datas=datasets.load_digits()\n",
    "data=datas['data']\n",
    "label=datas['target'] "
   ]
  },
  {
   "cell_type": "code",
   "execution_count": 21,
   "metadata": {},
   "outputs": [
    {
     "name": "stdout",
     "output_type": "stream",
     "text": [
      "Training shape: (1437, 64) (1437,)\n",
      "Testing shape: (360, 64) (360,)\n"
     ]
    }
   ],
   "source": [
    "X,X_test, y, y_test=train_test_split(data, label, test_size = 0.2)\n",
    "print('Training shape:', X.shape, y.shape)\n",
    "print('Testing shape:',X_test.shape, y_test.shape)"
   ]
  },
  {
   "cell_type": "code",
   "execution_count": 22,
   "metadata": {},
   "outputs": [],
   "source": [
    "N,D=X.shape            #num_data, data_dimension\n",
    "C=np.max(y)+1          #number of classes"
   ]
  },
  {
   "cell_type": "code",
   "execution_count": 23,
   "metadata": {},
   "outputs": [
    {
     "data": {
      "text/plain": [
       "10"
      ]
     },
     "execution_count": 23,
     "metadata": {},
     "output_type": "execute_result"
    }
   ],
   "source": [
    "C"
   ]
  },
  {
   "cell_type": "code",
   "execution_count": 24,
   "metadata": {},
   "outputs": [
    {
     "data": {
      "text/plain": [
       "array([7, 4, 9, ..., 1, 7, 0])"
      ]
     },
     "execution_count": 24,
     "metadata": {},
     "output_type": "execute_result"
    }
   ],
   "source": [
    "y"
   ]
  },
  {
   "cell_type": "markdown",
   "metadata": {},
   "source": [
    "<b>Task 6: Train on the digits data [Note: y is not one-hot vector now]</b>\n",
    "1. Train a two layer[Input, Output] network\n",
    "2. Plot loss, tune learning rate, number of epochs\n",
    "3. predict on test data and show accuracy.  [accuracy should be above 90%]\n",
    "4. Play with the learning rate and number of epochs [try few values]"
   ]
  },
  {
   "cell_type": "code",
   "execution_count": 25,
   "metadata": {},
   "outputs": [
    {
     "name": "stdout",
     "output_type": "stream",
     "text": [
      "y =  [7 4 9 ... 1 7 0] \n",
      "\n",
      "y hot =  [[0. 0. 0. ... 1. 0. 0.]\n",
      " [0. 0. 0. ... 0. 0. 0.]\n",
      " [0. 0. 0. ... 0. 0. 1.]\n",
      " ...\n",
      " [0. 1. 0. ... 0. 0. 0.]\n",
      " [0. 0. 0. ... 1. 0. 0.]\n",
      " [1. 0. 0. ... 0. 0. 0.]]\n"
     ]
    }
   ],
   "source": [
    "#your code goes here.\n",
    "#init w and b randomly.\n",
    "w = 0.01 * np.random.randn(D,C)\n",
    "b = np.zeros((1,C))\n",
    "y_hot=np.zeros((N,C))\n",
    "y_hot[range(N),y]=1\n",
    "\n",
    "print('y = ',y,'\\n')\n",
    "print('y hot = ',y_hot)"
   ]
  },
  {
   "cell_type": "code",
   "execution_count": 26,
   "metadata": {},
   "outputs": [],
   "source": [
    "avg_loss=[]\n",
    "for i in range(epoch):\n",
    "    z=np.dot(X,w)+b\n",
    "    A=softmax(z)\n",
    "    dz=A-y_hot\n",
    "    𝑑𝑤=np.dot(𝑋.𝑇,𝑑𝑧)/len(dz)\n",
    "    𝑑b=np.mean(dz,axis=0)\n",
    "    \n",
    "    w=w-lr*dw \n",
    "    b=b-lr*db\n",
    "    \n",
    "    loss=np.sum(-y_hot*np.log(A),axis=1)\n",
    "    avg_loss.append(np.mean(loss))"
   ]
  },
  {
   "cell_type": "code",
   "execution_count": 27,
   "metadata": {},
   "outputs": [
    {
     "data": {
      "text/plain": [
       "[<matplotlib.lines.Line2D at 0x1f50a3acd88>]"
      ]
     },
     "execution_count": 27,
     "metadata": {},
     "output_type": "execute_result"
    },
    {
     "data": {
      "image/png": "[encoded data removed]",
      "text/plain": [
       "<Figure size 432x288 with 1 Axes>"
      ]
     },
     "metadata": {
      "needs_background": "light"
     },
     "output_type": "display_data"
    }
   ],
   "source": [
    "plt.plot(avg_loss)"
   ]
  },
  {
   "cell_type": "code",
   "execution_count": 28,
   "metadata": {},
   "outputs": [
    {
     "name": "stdout",
     "output_type": "stream",
     "text": [
      "w =  [[ 4.55559195e-03 -1.83561842e-02  3.55061489e-03  9.53299691e-03\n",
      "  -6.94447938e-03  4.99315217e-03 -5.25697698e-03  2.96088098e-03\n",
      "   9.08568538e-04 -4.03472919e-03]\n",
      " [ 2.51624229e-03  7.00562974e-03  8.32110582e-03  2.09571987e-03\n",
      "  -1.29122751e-02  4.43849227e-02 -1.02360694e-02  1.61209408e-02\n",
      "  -8.84526733e-03 -1.91129965e-02]\n",
      " [-2.89843055e-02 -3.27913677e-02  4.60828393e-02 -1.11118104e-02\n",
      "  -4.88331221e-02  1.97618437e-01 -9.93047049e-02  2.93252312e-02\n",
      "  -1.53094159e-02 -3.93662313e-02]\n",
      " [ 4.89455734e-02  2.70665563e-02  2.02228766e-03  3.80920556e-02\n",
      "  -1.54620765e-01 -4.09120888e-02 -4.12474433e-02  6.86351674e-02\n",
      "  -7.54164586e-02  9.05089515e-02]\n",
      " [-2.12774592e-03 -2.19574125e-01  1.37078112e-02  1.69118453e-01\n",
      "  -8.47457028e-02  3.57492296e-02 -2.14906348e-02  7.28563306e-02\n",
      "   4.06470448e-03  4.33859608e-02]\n",
      " [-6.78304395e-02  7.94454678e-02 -2.15379828e-02  6.71757417e-02\n",
      "  -1.47953013e-01  1.51215937e-01 -7.33996631e-02  6.41606222e-02\n",
      "  -2.82295658e-03 -4.27679313e-02]\n",
      " [-6.76857638e-02  3.46752915e-02 -8.18536532e-03  9.64617885e-04\n",
      "  -7.59215840e-02  1.13148444e-01 -3.80259052e-02  8.49076511e-02\n",
      "  -8.61311126e-02  6.55767901e-03]\n",
      " [-3.90744741e-03 -8.44528176e-03 -9.90353791e-04  7.53098007e-03\n",
      "   1.77650569e-02 -1.49472416e-02  7.71901634e-03  2.78514297e-02\n",
      "  -7.68683069e-03  9.13591835e-04]\n",
      " [ 4.61650186e-03 -1.34476179e-03 -2.75985531e-03  9.28033511e-03\n",
      "   4.27393245e-03 -1.27778835e-02 -1.34655311e-03  1.61386228e-02\n",
      "  -1.32078408e-02 -8.41334936e-03]\n",
      " [-3.37862632e-03 -1.14628703e-01  1.01594324e-01  5.30401346e-02\n",
      "   1.28136632e-02 -3.18903380e-03 -6.01054026e-02  2.59817273e-02\n",
      "  -5.86681386e-03  4.33333911e-02]\n",
      " [ 1.16113256e-02 -1.73258510e-01  5.12980982e-02  7.94910498e-02\n",
      "  -6.21296241e-02  7.66693190e-02 -6.54789396e-02  1.79117803e-02\n",
      "   3.45411273e-02  6.81024366e-02]\n",
      " [ 6.17291135e-02 -2.63873381e-02 -1.59659874e-02  2.08849897e-02\n",
      "  -8.70912833e-02  5.21938627e-02  4.98662479e-04  5.47956191e-02\n",
      "  -3.09859533e-02  1.54340458e-02]\n",
      " [ 2.59672697e-02  5.16023675e-02  9.37056225e-02  4.25371760e-02\n",
      "  -1.25315665e-01 -5.35414686e-03 -1.23566266e-01  1.57126762e-01\n",
      "  -9.64015523e-02 -2.49774712e-02]\n",
      " [ 6.98008889e-02  7.88656212e-03 -7.38175685e-03  8.31124642e-02\n",
      "  -8.70686819e-02 -6.23179041e-02 -1.08713894e-01  1.02422106e-02\n",
      "   9.48454051e-02  2.66458218e-02]\n",
      " [-2.23200753e-02 -5.31934126e-02 -1.71013208e-02  8.27214445e-02\n",
      "  -5.94909431e-02 -5.46526663e-02 -3.87265695e-02  3.02416309e-02\n",
      "   2.24676169e-02  4.50470770e-02]\n",
      " [-1.38681334e-02  8.69923921e-03 -8.12782453e-04 -8.14131293e-04\n",
      "   1.91607358e-02 -2.08113342e-02  1.64948034e-02  5.31330627e-02\n",
      "  -1.06652945e-02  1.33629765e-03]\n",
      " [-1.24674628e-02 -3.37463347e-04 -2.84137071e-02  2.04476235e-03\n",
      "  -1.11141680e-02 -8.13846056e-03  1.49388291e-02 -1.34180720e-02\n",
      "  -3.87046666e-03  2.32441640e-04]\n",
      " [ 2.31040587e-02  3.66608297e-02 -2.93819735e-02 -4.07538114e-03\n",
      "   1.48970444e-02  2.23025999e-02 -6.74749416e-02 -5.85877919e-02\n",
      "   2.58992237e-02  4.61277282e-02]\n",
      " [ 6.73147580e-02 -1.40638573e-02 -6.23410440e-02 -1.92775631e-01\n",
      "   5.97303625e-02  6.09152925e-02  5.39918490e-02 -1.29146848e-01\n",
      "   6.96763013e-02  5.25591270e-02]\n",
      " [-2.21872415e-02  2.59018905e-01 -8.81801511e-02 -1.61628498e-01\n",
      "   5.68449672e-02 -1.87596977e-02  2.66575415e-02 -7.17404643e-02\n",
      "   7.19470192e-03  2.81084953e-02]\n",
      " [-1.34818419e-01  1.97897763e-01  6.84292692e-02  4.96661406e-02\n",
      "   3.15789877e-02 -1.76760592e-01 -1.22631709e-01  1.44166473e-02\n",
      "  -1.76035153e-02  3.95523452e-02]\n",
      " [ 1.06094849e-01 -2.75253515e-02 -5.46102818e-03 -6.87676380e-02\n",
      "   3.19855458e-02 -2.05358144e-01 -1.82126602e-01  4.25456221e-02\n",
      "   5.61552284e-02  2.06482893e-01]\n",
      " [ 1.44986020e-02 -3.80724935e-02  3.60070293e-02 -3.51081584e-03\n",
      "  -3.15315976e-03 -1.45891335e-01 -3.52054702e-02  4.70380326e-02\n",
      "   2.83986608e-02  3.62999740e-02]\n",
      " [-2.37442929e-03 -1.71890576e-02  4.19562207e-03 -6.33655122e-03\n",
      "  -7.88065041e-03 -1.31246967e-02 -5.79311023e-03  5.93827942e-03\n",
      "  -1.67353339e-02 -2.81744715e-03]\n",
      " [ 5.61646125e-03  9.26509684e-03 -9.37819387e-03 -6.48419404e-03\n",
      "   1.26908502e-03 -4.11543975e-03 -3.08293037e-03 -4.82491841e-03\n",
      "  -7.08596455e-03 -1.41672042e-03]\n",
      " [ 6.41650104e-02  2.20157886e-03 -5.57934308e-02 -3.10107253e-02\n",
      "   3.67092927e-02  6.76082443e-02  1.86859279e-02 -6.21112770e-02\n",
      "  -2.01322553e-02  1.93311646e-02]\n",
      " [ 4.98090076e-02  3.33576028e-02 -2.12362593e-01 -1.89009437e-01\n",
      "   1.73197103e-01  1.18320977e-01  4.13067171e-02 -4.52652135e-02\n",
      "  -5.11432011e-02  6.85573074e-02]\n",
      " [-1.01412256e-01  9.11267336e-02 -2.04777754e-01 -2.80550449e-02\n",
      "   2.00760762e-02 -1.48440092e-02  2.78269299e-02 -1.10206000e-01\n",
      "   1.48892607e-01  1.53453448e-01]\n",
      " [-2.31955771e-01  3.24762875e-02 -4.87920577e-02  1.05731209e-01\n",
      "   5.10622943e-02  6.92903777e-02 -2.22881261e-02  3.76442609e-03\n",
      "  -6.34480606e-03  6.56203612e-02]\n",
      " [ 1.92757597e-02  1.77242884e-02 -8.92757280e-03 -1.89514646e-01\n",
      "   2.45088312e-02 -3.31156922e-02 -2.25887506e-02  9.44450195e-02\n",
      "  -1.48847445e-02  1.06887648e-01]\n",
      " [ 6.81446420e-02 -5.65163415e-02 -2.26074381e-03 -9.28951560e-02\n",
      "   1.90990082e-01 -7.76425897e-02 -7.02576491e-02  6.05560550e-02\n",
      "  -3.54676487e-02  5.21419919e-02]\n",
      " [-1.75971334e-02 -1.45527271e-02  7.53866467e-03 -2.37323206e-02\n",
      "   1.60822804e-03 -6.48938553e-03  2.85177876e-03 -1.42326575e-02\n",
      "   1.51140983e-02 -7.38796500e-03]\n",
      " [ 1.07574022e-02 -3.82294002e-03  6.56914476e-03 -1.04346947e-02\n",
      "  -2.38217445e-03 -2.14517639e-03 -5.79120814e-03  1.10955153e-03\n",
      "  -8.15435397e-03  2.38054903e-02]\n",
      " [ 6.36483950e-02 -8.54869229e-03 -3.56116817e-02 -2.87763246e-02\n",
      "   1.17577501e-01 -1.12468439e-02  4.63564902e-02  3.52547982e-02\n",
      "  -6.74680000e-02 -8.55327415e-02]\n",
      " [ 8.62104365e-02  3.43961078e-02 -1.44740676e-01 -9.17434810e-02\n",
      "   8.44751458e-02  5.15930722e-02  9.25082481e-02  1.76243823e-02\n",
      "  -3.35085499e-02 -5.47857383e-02]\n",
      " [-1.15229064e-01 -4.28364661e-02 -7.13465052e-02  8.71118628e-03\n",
      "  -3.95652431e-02 -5.62388772e-02  7.14441227e-02  2.39265954e-03\n",
      "   1.22202693e-01  6.52544680e-02]\n",
      " [-1.75325797e-01  2.50540443e-02  1.71721968e-02  7.51414273e-02\n",
      "   1.14851150e-01 -5.17188096e-02 -4.11339080e-03  7.28252156e-02\n",
      "   5.19346026e-02 -1.01330770e-01]\n",
      " [-1.68824315e-02  3.67564572e-03 -1.08760152e-01 -1.90131695e-02\n",
      "   9.81683627e-02  3.09872469e-02  1.45550425e-02  1.30843917e-01\n",
      "  -1.24758454e-01 -1.71618392e-02]\n",
      " [ 5.53267609e-02 -7.16856971e-02 -7.06123739e-02 -2.66482576e-03\n",
      "   1.22847624e-01  4.64220684e-02  1.09792531e-02  8.73135093e-02\n",
      "  -1.21576053e-01 -2.17061574e-03]\n",
      " [ 2.84548124e-03 -1.59644767e-02 -3.79445269e-03  1.13957727e-02\n",
      "   4.60561891e-03  1.42073157e-02  1.76716245e-03  2.18128444e-03\n",
      "   1.70676567e-02  1.35480881e-02]\n",
      " [ 1.54244438e-03 -6.18935792e-03 -7.06875816e-03  9.69039793e-03\n",
      "   1.41955536e-02  9.35082120e-03 -9.10898398e-03  8.26208280e-03\n",
      "   1.42059070e-03 -5.23127748e-03]\n",
      " [ 4.26257550e-03 -6.67992416e-02  2.65627908e-02 -1.99198767e-02\n",
      "   1.71538240e-01 -6.42931065e-02 -3.45596553e-02  5.87825307e-04\n",
      "   8.75288081e-03 -2.73477133e-02]\n",
      " [ 1.15080888e-01 -1.79633493e-02  2.42412204e-02 -1.21854470e-01\n",
      "   6.79614894e-03 -1.11644711e-01  1.88285764e-01  1.05240606e-02\n",
      "   1.00589068e-01 -1.80018070e-01]\n",
      " [-6.87074520e-02  4.72169931e-02  1.81305521e-01 -1.78371778e-01\n",
      "   1.94200274e-01 -8.95347677e-02  5.39923769e-02  6.54620076e-02\n",
      "   7.68689214e-02 -2.73763778e-01]\n",
      " [-6.46883467e-02  4.40061101e-02 -9.64123201e-02  2.47202921e-02\n",
      "   1.66306819e-01 -6.30114500e-02 -3.07933625e-03  4.01370379e-02\n",
      "   5.36129622e-02 -1.38355122e-01]\n",
      " [ 4.24670217e-02 -8.62969069e-02 -1.74576110e-01  1.15406531e-01\n",
      "   3.68604209e-02  4.03739705e-02  1.57505107e-02 -7.38406836e-03\n",
      "   8.13286602e-02 -4.30571536e-02]\n",
      " [ 3.82338361e-02 -1.48319528e-01 -6.78532668e-02  1.29426796e-01\n",
      "   2.10476488e-02  2.05938701e-02  9.29283343e-02 -1.94944894e-02\n",
      "  -2.38061594e-02 -2.98081595e-02]\n",
      " [-1.37795339e-03  1.03728135e-02  6.99314600e-03  3.81943022e-03\n",
      "   1.25278558e-02 -5.92979832e-03 -1.09537523e-02 -1.58176190e-02\n",
      "  -1.96399568e-02  3.83760355e-03]\n",
      " [-7.50548278e-03  4.63783309e-03 -1.24510255e-02 -4.94889698e-03\n",
      "   1.75205341e-02 -5.70194315e-03 -1.51547548e-02 -7.17881659e-03\n",
      "  -4.90076000e-03  1.82294034e-02]\n",
      " [-2.57784259e-02 -4.64522936e-02  3.47154248e-02 -2.78059834e-02\n",
      "   6.08068570e-02 -3.20070679e-03 -2.52237704e-02 -2.52955071e-02\n",
      "   1.76492189e-02  3.33242131e-02]\n",
      " [ 5.18235682e-02 -5.13538045e-02  6.21479379e-02 -9.68899470e-03\n",
      "  -6.86122877e-02 -5.80577648e-02  5.07857614e-02 -3.24658013e-02\n",
      "   1.02302045e-01 -5.43436564e-02]\n",
      " [ 1.12165796e-02  3.97065052e-02  1.81675342e-01 -7.63224867e-02\n",
      "   5.88840383e-02 -2.80930846e-02  5.13969332e-02  3.52390417e-02\n",
      "  -1.27889704e-01 -8.49222261e-02]\n",
      " [ 5.14273056e-02  9.88710612e-02  1.18048626e-01  3.62998290e-02\n",
      "   3.71399480e-02  9.62059596e-03 -6.28648483e-02 -1.07883376e-01\n",
      "  -1.02853726e-01 -7.57562474e-02]\n",
      " [ 3.46963004e-02 -3.07851452e-02  1.07219553e-01  7.23308412e-02\n",
      "  -9.61374541e-02  3.17904908e-02  1.11350169e-01 -1.73356234e-01\n",
      "   6.84188331e-02 -8.81613916e-02]\n",
      " [-3.30533424e-02 -8.49079601e-02  6.62454403e-02  1.18504814e-01\n",
      "  -9.14384400e-02 -7.45996817e-02  5.06104025e-02 -5.88062288e-02\n",
      "   2.88808840e-02 -4.06103622e-03]\n",
      " [ 9.87362733e-03  5.95461891e-02  3.30626989e-02 -2.10004322e-02\n",
      "  -4.40843555e-03  3.07586600e-03 -1.02027453e-02  6.03216614e-03\n",
      "  -1.20819531e-02 -7.40779430e-03]\n",
      " [-6.59380388e-03  8.80130316e-03  1.33298146e-02 -1.03845252e-02\n",
      "  -1.08564742e-02 -1.37098598e-02  3.68277280e-03  2.59953057e-03\n",
      "   1.14598254e-02 -1.12125531e-02]\n",
      " [-8.70804626e-03 -1.70165178e-02  1.72461946e-02  2.51225441e-02\n",
      "   1.06158654e-02  2.24032930e-02 -5.11300752e-03 -1.99340869e-03\n",
      "  -2.13851738e-02 -1.84202012e-02]\n",
      " [-2.21621831e-02 -9.27566287e-02  5.98450484e-02  6.25514596e-02\n",
      "  -1.28079961e-03  1.46966778e-01 -8.42352757e-02  3.38219727e-02\n",
      "  -1.35370089e-01 -2.66098455e-03]\n",
      " [ 5.14550699e-02 -5.53232048e-02  1.57449984e-02  4.47746927e-02\n",
      "  -1.05411517e-01  8.23954226e-02 -3.41007023e-02 -6.99641805e-02\n",
      "   4.50648164e-02  3.34513797e-02]\n",
      " [-2.50723370e-02  2.53450208e-02  3.80214283e-02  1.04937197e-02\n",
      "  -5.21759748e-02  4.01080902e-03  2.75617367e-02 -1.66562726e-01\n",
      "   9.54171292e-02  1.03557235e-02]\n",
      " [-4.33454409e-02  8.51931649e-02  1.31085892e-01  1.92111891e-02\n",
      "  -8.76556681e-02 -4.79930985e-02  1.38676181e-01 -1.25534299e-01\n",
      "  -2.73521222e-02 -1.01467214e-02]\n",
      " [-1.69798673e-02  6.62082987e-02  1.34205813e-01  8.20091731e-03\n",
      "  -2.97743998e-02 -8.04670077e-02  2.48072836e-02 -4.11040572e-02\n",
      "  -4.06891657e-02 -2.65380954e-02]\n",
      " [-1.22288187e-02  9.90421249e-02  4.50868897e-02 -3.76329773e-02\n",
      "  -1.68090425e-02 -2.27129694e-02 -5.63453247e-02  1.59192487e-02\n",
      "  -2.13014583e-02 -1.73337480e-02]] \n",
      "\n",
      "b =  [[ 0.00032475 -0.00625496 -0.00030587  0.00201228  0.00679077  0.00040446\n",
      "  -0.00129507  0.00184228 -0.00188232 -0.0016363 ]] \n",
      "\n",
      "A =  [[9.78524435e-07 1.42606263e-07 3.87863559e-06 ... 9.99590209e-01\n",
      "  2.88958537e-05 3.55920245e-06]\n",
      " [3.04045270e-04 6.28676984e-06 6.06217458e-08 ... 2.73526599e-05\n",
      "  1.21798414e-06 4.19794763e-10]\n",
      " [2.00294089e-05 4.64290746e-02 4.64402828e-05 ... 1.35547310e-02\n",
      "  4.10224203e-02 8.01228160e-01]\n",
      " ...\n",
      " [3.40400836e-08 9.97303246e-01 5.20540465e-07 ... 4.14638114e-06\n",
      "  2.78205752e-04 7.38361509e-05]\n",
      " [7.39205020e-07 1.00286356e-05 1.45969609e-04 ... 9.98176049e-01\n",
      "  3.57113831e-04 1.01957459e-03]\n",
      " [9.99395124e-01 2.22691050e-05 3.22235640e-07 ... 5.63499561e-05\n",
      "  1.40116032e-04 3.10449407e-05]]\n"
     ]
    }
   ],
   "source": [
    "z=np.dot(X,w)+b\n",
    "A=softmax(z)\n",
    "\n",
    "print('w = ',w,'\\n')\n",
    "print('b = ',b,'\\n')\n",
    "print('A = ',A)"
   ]
  },
  {
   "cell_type": "code",
   "execution_count": 29,
   "metadata": {},
   "outputs": [
    {
     "name": "stdout",
     "output_type": "stream",
     "text": [
      "\n",
      " predicted \n",
      " [[0. 0. 0. ... 1. 0. 0.]\n",
      " [0. 0. 0. ... 0. 0. 0.]\n",
      " [0. 0. 0. ... 0. 0. 1.]\n",
      " ...\n",
      " [0. 1. 0. ... 0. 0. 0.]\n",
      " [0. 0. 0. ... 1. 0. 0.]\n",
      " [1. 0. 0. ... 0. 0. 0.]]\n",
      "Original \n",
      " [[0. 0. 0. ... 1. 0. 0.]\n",
      " [0. 0. 0. ... 0. 0. 0.]\n",
      " [0. 0. 0. ... 0. 0. 1.]\n",
      " ...\n",
      " [0. 1. 0. ... 0. 0. 0.]\n",
      " [0. 0. 0. ... 1. 0. 0.]\n",
      " [1. 0. 0. ... 0. 0. 0.]]\n",
      "\n",
      " Accuracy :->  99.30410577592205 %\n"
     ]
    }
   ],
   "source": [
    "k=0\n",
    "for i in A:\n",
    "    idx=i.tolist().index(max(i))\n",
    "    A[k]=([0 if j!=idx else 1 for j in range(len(i))])\n",
    "    k+=1\n",
    "\n",
    "\n",
    "print('\\n',\"predicted \\n\",A)\n",
    "print(\"Original \\n\",y_hot)\n",
    "\n",
    "cunt=0\n",
    "for i,j in zip(A,y_hot):\n",
    "    result= i==j\n",
    "    if(all(result)):\n",
    "        cunt+=1\n",
    "\n",
    "print('\\n',\"Accuracy :-> \",(cunt/len(y_hot))*100,\"%\")"
   ]
  },
  {
   "cell_type": "markdown",
   "metadata": {},
   "source": [
    "### Submission"
   ]
  },
  {
   "cell_type": "markdown",
   "metadata": {},
   "source": [
    "1. Complete The Honor Code\n",
    "2. Submit this notebook file to google classroom.\n",
    "\n",
    "<b>Comment on google classroom if you have any questions</b>"
   ]
  },
  {
   "cell_type": "markdown",
   "metadata": {},
   "source": [
    "### Honor Code\n",
    "Plese type the following in the next cell. Replace the underlined text with your own. "
   ]
  },
  {
   "cell_type": "markdown",
   "metadata": {},
   "source": [
    "I am <u>Syed Jafrul Husen</u> bearing registration no. <u>170103020013</u> hereby declaring that I myself did my assignments, I didn't directly copy any code from others. I have a complete understanding of my code and can explain. I respect this honor code and I believe it will be useful to maintain academic integrity.<br>\n",
    "\n",
    "Name: <u>Syed Jafrul Husen</u><br>\n",
    "Date: <u>01/09/20</u>"
   ]
  },
  {
   "cell_type": "markdown",
   "metadata": {},
   "source": [
    "_your__writing_"
   ]
  },
  {
   "cell_type": "code",
   "execution_count": null,
   "metadata": {},
   "outputs": [],
   "source": []
  }
 ],
 "metadata": {
  "kernelspec": {
   "display_name": "Python 3",
   "language": "python",
   "name": "python3"
  },
  "language_info": {
   "codemirror_mode": {
    "name": "ipython",
    "version": 3
   },
   "file_extension": ".py",
   "mimetype": "text/x-python",
   "name": "python",
   "nbconvert_exporter": "python",
   "pygments_lexer": "ipython3",
   "version": "3.7.6"
  },
  "metadata": {
   "deletable": false,
   "editable": false,
   "trusted": true
  }
 },
 "nbformat": 4,
 "nbformat_minor": 2
}
