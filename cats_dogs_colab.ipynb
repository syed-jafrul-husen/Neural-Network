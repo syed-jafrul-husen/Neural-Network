{
 "cells": [
  {
   "cell_type": "markdown",
   "metadata": {
    "id": "WRwYluejCgTA"
   },
   "source": [
    "**Connect with Google Drive**\n",
    "\n",
    "```\n",
    "`# This is formatted as code`\n",
    "```\n",
    "\n",
    "\n",
    "\n",
    "Note: open the link the following cell will generate, then allow this app and copy the code. Come back to this tab and paste the authorization code."
   ]
  },
  {
   "cell_type": "code",
   "execution_count": 3,
   "metadata": {
    "colab": {
     "base_uri": "https://localhost:8080/",
     "height": 34
    },
    "id": "QZOYynsykPil",
    "outputId": "eb345204-f2af-4c24-df34-cfa4a2e0af6b"
   },
   "outputs": [
    {
     "name": "stdout",
     "output_type": "stream",
     "text": [
      "Mounted at /content/gdrive\n"
     ]
    }
   ],
   "source": [
    "from google.colab import drive\n",
    "drive.mount('/content/gdrive')"
   ]
  },
  {
   "cell_type": "code",
   "execution_count": 4,
   "metadata": {
    "id": "R2kAxwqom9cU"
   },
   "outputs": [],
   "source": [
    "root_dir = \"/content/gdrive/My Drive/\""
   ]
  },
  {
   "cell_type": "code",
   "execution_count": 5,
   "metadata": {
    "id": "otErs6tfkSlM"
   },
   "outputs": [],
   "source": [
    "# !wget --no-check-certificate \\\n",
    "#     https://storage.googleapis.com/mledu-datasets/cats_and_dogs_filtered.zip \\\n",
    "#     -O \"/content/gdrive/My Drive/colab/data/cats_and_dogs_filtered.zip\""
   ]
  },
  {
   "cell_type": "code",
   "execution_count": 5,
   "metadata": {
    "id": "sgljT___kQb_"
   },
   "outputs": [],
   "source": []
  },
  {
   "cell_type": "code",
   "execution_count": 6,
   "metadata": {
    "id": "93o_-XPyRGGj"
   },
   "outputs": [],
   "source": [
    "import tensorflow as tf\n",
    "from tensorflow.keras.preprocessing.image import ImageDataGenerator\n",
    "import os\n",
    "import matplotlib.pyplot as plt\n",
    "import numpy as np\n",
    "from keras.applications.vgg16 import VGG16\n",
    "from keras.layers import Conv2D, MaxPooling2D, Flatten, Dense, Dropout\n",
    "from keras.models import Sequential\n",
    "from keras import optimizers\n",
    "import glob\n",
    "from keras.applications.vgg16 import VGG16\n",
    "from keras.layers import Conv2D, MaxPooling2D, Flatten, Dense, Dropout\n",
    "from keras.models import Sequential\n",
    "from keras import optimizers\n",
    "from sklearn.preprocessing import LabelEncoder\n",
    "from keras.layers import Conv2D, MaxPooling2D, Flatten, Dense, Dropout, InputLayer\n",
    "from keras.models import Sequential\n",
    "from keras import optimizers\n",
    "from keras.layers import BatchNormalization\n",
    "from keras.layers import Activation\n",
    "from keras.preprocessing.image import ImageDataGenerator, load_img, img_to_array, array_to_img\n",
    "import logging\n",
    "logger = tf.get_logger()\n",
    "logger.setLevel(logging.ERROR)\n"
   ]
  },
  {
   "cell_type": "code",
   "execution_count": 7,
   "metadata": {
    "id": "RuV7klRzQ2Rc"
   },
   "outputs": [],
   "source": [
    "# import os\n",
    "# import zipfile\n",
    "\n",
    "# local_zip =root_dir+'/colab/data/cats_dogs/train.zip'\n",
    "# zip_ref = zipfile.ZipFile(local_zip, 'r')\n",
    "# zip_ref.extractall(root_dir+'/colab/data/cats_dogs/')\n",
    "# zip_ref.close()"
   ]
  },
  {
   "cell_type": "markdown",
   "metadata": {
    "id": "h54jq2DkFSd9"
   },
   "source": [
    "**Change the location to where you put the \"train\" folder**"
   ]
  },
  {
   "cell_type": "code",
   "execution_count": 8,
   "metadata": {
    "id": "f4aagMgmpzcw"
   },
   "outputs": [],
   "source": [
    "#for my case the following location.\n",
    "cats_dogs=root_dir+'/colab/data/cats_dogs/train'"
   ]
  },
  {
   "cell_type": "markdown",
   "metadata": {
    "id": "NXTplblTDRO2"
   },
   "source": [
    "**Load the data files from google drive. This will take some time**"
   ]
  },
  {
   "cell_type": "code",
   "execution_count": 14,
   "metadata": {
    "colab": {
     "base_uri": "https://localhost:8080/",
     "height": 34
    },
    "id": "qeMrt3vDpzXt",
    "outputId": "0c2e283b-d8fc-4de5-f46c-0608e9e844fc"
   },
   "outputs": [
    {
     "name": "stdout",
     "output_type": "stream",
     "text": [
      "total files= 25000\n"
     ]
    }
   ],
   "source": [
    "files = glob.glob(cats_dogs+'/*') \n",
    "print('total files=', len(files))"
   ]
  },
  {
   "cell_type": "markdown",
   "metadata": {
    "id": "ycV0981fDaFG"
   },
   "source": [
    "**You should see: total files= 25000** <br>\n",
    "**In case, if your output is \"total files= 0\" then rerun the cell above.**"
   ]
  },
  {
   "cell_type": "code",
   "execution_count": 15,
   "metadata": {
    "colab": {
     "base_uri": "https://localhost:8080/",
     "height": 34
    },
    "id": "-ZFwSVVeLdsg",
    "outputId": "9fcaae4a-c5ce-40da-d499-096d84c93c18"
   },
   "outputs": [
    {
     "name": "stdout",
     "output_type": "stream",
     "text": [
      "cat files: 12500 dog files: 12500\n"
     ]
    }
   ],
   "source": [
    "cat_files = [fn for fn in files if 'cat.' in fn]\n",
    "dog_files = [fn for fn in files if 'dog.' in fn]\n",
    "print('cat files:', len(cat_files), 'dog files:',len(dog_files))"
   ]
  },
  {
   "cell_type": "markdown",
   "metadata": {
    "id": "Otwfj_50DxmX"
   },
   "source": [
    "You should see \"cat files: 12500 dog files: 12500\"\n",
    "\n",
    "**For this task, we will use 1000 cat images and 1000 dog images.**"
   ]
  },
  {
   "cell_type": "code",
   "execution_count": 16,
   "metadata": {
    "id": "FjusbqnTLiNn"
   },
   "outputs": [],
   "source": [
    "n=1000\n",
    "cat_files=np.array(cat_files[:n])\n",
    "dog_files=np.array(dog_files[:n])"
   ]
  },
  {
   "cell_type": "code",
   "execution_count": 17,
   "metadata": {
    "colab": {
     "base_uri": "https://localhost:8080/",
     "height": 34
    },
    "id": "r3iRcq1buQZy",
    "outputId": "f9e2783e-fd8c-4af7-d274-c2afaaf162ee"
   },
   "outputs": [
    {
     "name": "stdout",
     "output_type": "stream",
     "text": [
      "cat files: 1000 dog files: 1000\n"
     ]
    }
   ],
   "source": [
    "print('cat files:', len(cat_files), 'dog files:',len(dog_files))"
   ]
  },
  {
   "cell_type": "markdown",
   "metadata": {
    "id": "MFiZiboMEFx5"
   },
   "source": [
    "Split data into train, validation and test <br>\n",
    "You should see \"Train, Validation, Test:  (1200,) (400,) (400,)\""
   ]
  },
  {
   "cell_type": "code",
   "execution_count": 18,
   "metadata": {
    "colab": {
     "base_uri": "https://localhost:8080/",
     "height": 34
    },
    "id": "bBJaoCuVLiU-",
    "outputId": "00edee2f-cf49-4711-c9af-1c6c2a7ec284"
   },
   "outputs": [
    {
     "name": "stdout",
     "output_type": "stream",
     "text": [
      "Train, Validation, Test:  (1200,) (400,) (400,)\n"
     ]
    }
   ],
   "source": [
    "train_size=600\n",
    "val_size=200\n",
    "test_size=200\n",
    "cat_indices=np.random.permutation(n)\n",
    "dog_indices=np.random.permutation(n) \n",
    "train_files=np.concatenate([cat_files[cat_indices[0:train_size]], dog_files[dog_indices[0:train_size]]]) \n",
    "val_files=np.concatenate([cat_files[cat_indices[train_size:train_size+val_size]], dog_files[dog_indices[train_size:train_size+val_size]]]) \n",
    "test_files=np.concatenate([cat_files[cat_indices[-test_size:]], dog_files[dog_indices[-test_size:]]]) \n",
    "\n",
    "print('Train, Validation, Test: ',train_files.shape, val_files.shape, test_files.shape)"
   ]
  },
  {
   "cell_type": "markdown",
   "metadata": {
    "id": "sQ_Y8hvaEZWD"
   },
   "source": [
    "**Loading the images: the following cell might take some time to run.**\n",
    "\n",
    "You should see \"\""
   ]
  },
  {
   "cell_type": "code",
   "execution_count": 21,
   "metadata": {
    "colab": {
     "base_uri": "https://localhost:8080/",
     "height": 34
    },
    "id": "OyhPphWvIXCo",
    "outputId": "81dde8a0-051f-4e8f-f848-ae03cb555602"
   },
   "outputs": [
    {
     "name": "stdout",
     "output_type": "stream",
     "text": [
      "train_imgs_shape: (1200, 150, 150, 3)\n"
     ]
    }
   ],
   "source": [
    "IMG_DIM = (150, 150)\n",
    "train_imgs =np.array( [img_to_array(load_img(img, target_size=IMG_DIM)) for img in train_files] )/255.0\n",
    "print('train_imgs_shape:',train_imgs.shape)"
   ]
  },
  {
   "cell_type": "code",
   "execution_count": 22,
   "metadata": {
    "colab": {
     "base_uri": "https://localhost:8080/",
     "height": 34
    },
    "id": "goFYawgEIevH",
    "outputId": "df91dfed-d476-42e4-f5a6-1ad74438bf8f"
   },
   "outputs": [
    {
     "name": "stdout",
     "output_type": "stream",
     "text": [
      "validation_imgs_shape: (400, 150, 150, 3)\n"
     ]
    }
   ],
   "source": [
    "val_imgs =np.array( [img_to_array(load_img(img, target_size=IMG_DIM)) for img in val_files] )/255.0\n",
    "print('validation_imgs_shape:',val_imgs.shape)"
   ]
  },
  {
   "cell_type": "code",
   "execution_count": 23,
   "metadata": {
    "colab": {
     "base_uri": "https://localhost:8080/",
     "height": 34
    },
    "id": "o7sVKOn7IpYw",
    "outputId": "8230741d-b62b-4513-c521-4d13e6967dab"
   },
   "outputs": [
    {
     "name": "stdout",
     "output_type": "stream",
     "text": [
      "test_imgs_shape: (400, 150, 150, 3)\n"
     ]
    }
   ],
   "source": [
    "test_imgs =np.array( [img_to_array(load_img(img, target_size=IMG_DIM)) for img in test_files] )/255.0\n",
    "print('test_imgs_shape:',test_imgs.shape)"
   ]
  },
  {
   "cell_type": "code",
   "execution_count": 24,
   "metadata": {
    "colab": {
     "base_uri": "https://localhost:8080/",
     "height": 34
    },
    "id": "hnPQl4wyLibD",
    "outputId": "20aea503-500b-4bb2-c4b9-9f6862cb4578"
   },
   "outputs": [
    {
     "name": "stdout",
     "output_type": "stream",
     "text": [
      "shapes: (1200, 150, 150, 3)  (400, 150, 150, 3)  (400, 150, 150, 3)\n"
     ]
    }
   ],
   "source": [
    "print(f'shapes: {train_imgs.shape}  {val_imgs.shape}  {test_imgs.shape}')"
   ]
  },
  {
   "cell_type": "code",
   "execution_count": 26,
   "metadata": {
    "colab": {
     "base_uri": "https://localhost:8080/",
     "height": 52
    },
    "id": "2e4H8f9MMDiy",
    "outputId": "e4f74cae-8259-4bbe-85cb-8c14d505b2dc"
   },
   "outputs": [
    {
     "name": "stdout",
     "output_type": "stream",
     "text": [
      "/content/gdrive/My Drive//colab/data/cats_dogs/train/cat.9856.jpg\n"
     ]
    },
    {
     "data": {
      "application/vnd.google.colaboratory.intrinsic+json": {
       "type": "string"
      },
      "text/plain": [
       "'cat.9856.jpg'"
      ]
     },
     "execution_count": 26,
     "metadata": {
      "tags": []
     },
     "output_type": "execute_result"
    }
   ],
   "source": [
    "print(train_files[0])\n",
    "train_files[0].split('/')[-1]"
   ]
  },
  {
   "cell_type": "code",
   "execution_count": 27,
   "metadata": {
    "colab": {
     "base_uri": "https://localhost:8080/",
     "height": 68
    },
    "id": "q9JDJvpzLiRs",
    "outputId": "507f4140-a3ba-4da3-c6c0-64f3289f1e22"
   },
   "outputs": [
    {
     "name": "stdout",
     "output_type": "stream",
     "text": [
      "['cat', 'cat', 'cat', 'cat', 'cat', 'dog', 'dog', 'dog', 'dog', 'dog']\n",
      "['cat', 'cat', 'cat', 'cat', 'cat', 'dog', 'dog', 'dog', 'dog', 'dog']\n",
      "['cat', 'cat', 'cat', 'cat', 'cat', 'dog', 'dog', 'dog', 'dog', 'dog']\n"
     ]
    }
   ],
   "source": [
    "train_labels=[ file.split('/')[-1].split('.')[0] for file in train_files]\n",
    "val_labels=[ file.split('/')[-1].split('.')[0] for file in val_files]\n",
    "test_labels=[ file.split('/')[-1].split('.')[0] for file in test_files]\n",
    "\n",
    "print( train_labels[595:605])\n",
    "print(val_labels[195:205])\n",
    "print(test_labels[195:205])"
   ]
  },
  {
   "cell_type": "code",
   "execution_count": 28,
   "metadata": {
    "id": "mduHDL4tLdy3"
   },
   "outputs": [],
   "source": [
    "#name to number\n",
    "le = LabelEncoder()\n",
    "le.fit(train_labels)\n",
    "train_labels_enc = le.transform(train_labels)\n",
    "validation_labels_enc = le.transform(val_labels)\n",
    "test_labels_enc = le.transform(test_labels)"
   ]
  },
  {
   "cell_type": "code",
   "execution_count": 29,
   "metadata": {
    "colab": {
     "base_uri": "https://localhost:8080/",
     "height": 167
    },
    "id": "5mokZLodL67v",
    "outputId": "73f9ee1d-7871-4d19-d955-b4d8bfb06355"
   },
   "outputs": [
    {
     "data": {
      "image/png": "[encoded data removed]",
      "text/plain": [
       "<PIL.Image.Image image mode=RGB size=150x150 at 0x7F05EBB642B0>"
      ]
     },
     "execution_count": 29,
     "metadata": {
      "tags": []
     },
     "output_type": "execute_result"
    }
   ],
   "source": [
    "array_to_img(train_imgs[1])"
   ]
  },
  {
   "cell_type": "code",
   "execution_count": 30,
   "metadata": {
    "colab": {
     "base_uri": "https://localhost:8080/",
     "height": 595
    },
    "id": "uGrnBRjeb1Gr",
    "outputId": "b8325be3-18ba-49de-bb11-f90195c29a0e"
   },
   "outputs": [
    {
     "name": "stdout",
     "output_type": "stream",
     "text": [
      "Model: \"sequential\"\n",
      "_________________________________________________________________\n",
      "Layer (type)                 Output Shape              Param #   \n",
      "=================================================================\n",
      "conv2d (Conv2D)              (None, 146, 146, 16)      1216      \n",
      "_________________________________________________________________\n",
      "max_pooling2d (MaxPooling2D) (None, 73, 73, 16)        0         \n",
      "_________________________________________________________________\n",
      "conv2d_1 (Conv2D)            (None, 71, 71, 64)        9280      \n",
      "_________________________________________________________________\n",
      "max_pooling2d_1 (MaxPooling2 (None, 35, 35, 64)        0         \n",
      "_________________________________________________________________\n",
      "dropout (Dropout)            (None, 35, 35, 64)        0         \n",
      "_________________________________________________________________\n",
      "conv2d_2 (Conv2D)            (None, 33, 33, 64)        36928     \n",
      "_________________________________________________________________\n",
      "max_pooling2d_2 (MaxPooling2 (None, 16, 16, 64)        0         \n",
      "_________________________________________________________________\n",
      "dropout_1 (Dropout)          (None, 16, 16, 64)        0         \n",
      "_________________________________________________________________\n",
      "conv2d_3 (Conv2D)            (None, 14, 14, 128)       73856     \n",
      "_________________________________________________________________\n",
      "max_pooling2d_3 (MaxPooling2 (None, 7, 7, 128)         0         \n",
      "_________________________________________________________________\n",
      "flatten (Flatten)            (None, 6272)              0         \n",
      "_________________________________________________________________\n",
      "dense (Dense)                (None, 512)               3211776   \n",
      "_________________________________________________________________\n",
      "dense_1 (Dense)              (None, 1)                 513       \n",
      "=================================================================\n",
      "Total params: 3,333,569\n",
      "Trainable params: 3,333,569\n",
      "Non-trainable params: 0\n",
      "_________________________________________________________________\n"
     ]
    }
   ],
   "source": [
    "input_shape = (150, 150, 3)\n",
    "model = Sequential()\n",
    "\n",
    "model.add(Conv2D(16, kernel_size=(5, 5), activation='relu',   input_shape=input_shape))\n",
    "model.add(MaxPooling2D(pool_size=(2, 2)))\n",
    "\n",
    "model.add(Conv2D(64, kernel_size=(3, 3), activation='relu'))\n",
    "model.add(MaxPooling2D(pool_size=(2, 2)))\n",
    "model.add(Dropout(0.5))\n",
    "model.add(Conv2D(64, kernel_size=(3, 3), activation='relu'))\n",
    "model.add(MaxPooling2D(pool_size=(2, 2)))\n",
    "model.add(Dropout(0.5))\n",
    "model.add(Conv2D(128, kernel_size=(3, 3), activation='relu'))\n",
    "model.add(MaxPooling2D(pool_size=(2, 2)))\n",
    "\n",
    "model.add(Flatten())\n",
    "model.add(Dense(512, activation='relu'))\n",
    "model.add(Dense(1, activation='sigmoid'))\n",
    "\n",
    "\n",
    "model.compile(loss='binary_crossentropy',\n",
    "              optimizer=optimizers.RMSprop(),\n",
    "              metrics=['accuracy'])\n",
    "\n",
    "model.summary()"
   ]
  },
  {
   "cell_type": "code",
   "execution_count": 31,
   "metadata": {
    "id": "2bxZzn6Wz8Br"
   },
   "outputs": [],
   "source": [
    "# #model without dropout.\n",
    "# input_shape = (150, 150, 3)\n",
    "# model = Sequential()\n",
    "\n",
    "# model.add(Conv2D(16, kernel_size=(3, 3), activation='relu',   input_shape=input_shape))\n",
    "# model.add(MaxPooling2D(pool_size=(2, 2)))\n",
    "\n",
    "# model.add(Conv2D(64, kernel_size=(3, 3), activation='relu'))\n",
    "# model.add(MaxPooling2D(pool_size=(2, 2)))\n",
    "\n",
    "# model.add(Conv2D(128, kernel_size=(3, 3), activation='relu'))\n",
    "# model.add(MaxPooling2D(pool_size=(2, 2)))\n",
    "\n",
    "# model.add(Flatten())\n",
    "# model.add(Dense(512, activation='relu'))\n",
    "# model.add(Dense(1, activation='sigmoid'))\n",
    "\n",
    "\n",
    "# model.compile(loss='binary_crossentropy',\n",
    "#               optimizer=optimizers.RMSprop(),\n",
    "#               metrics=['accuracy'])\n",
    "\n",
    "# model.summary()"
   ]
  },
  {
   "cell_type": "code",
   "execution_count": 32,
   "metadata": {
    "colab": {
     "base_uri": "https://localhost:8080/",
     "height": 697
    },
    "id": "4uUBnps4NTB9",
    "outputId": "f0452202-b464-403d-f0b4-234d0be1f581"
   },
   "outputs": [
    {
     "name": "stdout",
     "output_type": "stream",
     "text": [
      "Epoch 1/20\n",
      "38/38 [==============================] - 39s 1s/step - loss: 1.2553 - accuracy: 0.5217 - val_loss: 0.6929 - val_accuracy: 0.5000\n",
      "Epoch 2/20\n",
      "38/38 [==============================] - 39s 1s/step - loss: 0.6939 - accuracy: 0.5183 - val_loss: 0.6938 - val_accuracy: 0.5000\n",
      "Epoch 3/20\n",
      "38/38 [==============================] - 39s 1s/step - loss: 0.6943 - accuracy: 0.5100 - val_loss: 0.6930 - val_accuracy: 0.5000\n",
      "Epoch 4/20\n",
      "38/38 [==============================] - 39s 1s/step - loss: 0.7010 - accuracy: 0.5367 - val_loss: 0.6964 - val_accuracy: 0.5050\n",
      "Epoch 5/20\n",
      "38/38 [==============================] - 39s 1s/step - loss: 0.6942 - accuracy: 0.5300 - val_loss: 0.6878 - val_accuracy: 0.5900\n",
      "Epoch 6/20\n",
      "38/38 [==============================] - 39s 1s/step - loss: 0.7076 - accuracy: 0.5592 - val_loss: 0.6868 - val_accuracy: 0.5800\n",
      "Epoch 7/20\n",
      "38/38 [==============================] - 39s 1s/step - loss: 0.6787 - accuracy: 0.6058 - val_loss: 0.7185 - val_accuracy: 0.5350\n",
      "Epoch 8/20\n",
      "38/38 [==============================] - 39s 1s/step - loss: 0.6493 - accuracy: 0.6333 - val_loss: 0.6500 - val_accuracy: 0.6350\n",
      "Epoch 9/20\n",
      "38/38 [==============================] - 39s 1s/step - loss: 0.6433 - accuracy: 0.6558 - val_loss: 0.6320 - val_accuracy: 0.6750\n",
      "Epoch 10/20\n",
      "38/38 [==============================] - 39s 1s/step - loss: 0.6141 - accuracy: 0.6708 - val_loss: 0.6987 - val_accuracy: 0.5925\n",
      "Epoch 11/20\n",
      "38/38 [==============================] - 39s 1s/step - loss: 0.5948 - accuracy: 0.6667 - val_loss: 0.7152 - val_accuracy: 0.6350\n",
      "Epoch 12/20\n",
      "38/38 [==============================] - 39s 1s/step - loss: 0.5903 - accuracy: 0.7067 - val_loss: 0.6837 - val_accuracy: 0.5925\n",
      "Epoch 13/20\n",
      "38/38 [==============================] - 39s 1s/step - loss: 0.5471 - accuracy: 0.7233 - val_loss: 0.6312 - val_accuracy: 0.6575\n",
      "Epoch 14/20\n",
      "38/38 [==============================] - 39s 1s/step - loss: 0.5418 - accuracy: 0.7250 - val_loss: 0.6428 - val_accuracy: 0.6275\n",
      "Epoch 15/20\n",
      "38/38 [==============================] - 39s 1s/step - loss: 0.5011 - accuracy: 0.7433 - val_loss: 0.8171 - val_accuracy: 0.5975\n",
      "Epoch 16/20\n",
      "38/38 [==============================] - 39s 1s/step - loss: 0.5169 - accuracy: 0.7475 - val_loss: 0.6627 - val_accuracy: 0.6900\n",
      "Epoch 17/20\n",
      "38/38 [==============================] - 39s 1s/step - loss: 0.4719 - accuracy: 0.7817 - val_loss: 0.6672 - val_accuracy: 0.6575\n",
      "Epoch 18/20\n",
      "38/38 [==============================] - 39s 1s/step - loss: 0.4287 - accuracy: 0.7925 - val_loss: 0.6632 - val_accuracy: 0.6675\n",
      "Epoch 19/20\n",
      "38/38 [==============================] - 39s 1s/step - loss: 0.3998 - accuracy: 0.8183 - val_loss: 0.6295 - val_accuracy: 0.7150\n",
      "Epoch 20/20\n",
      "38/38 [==============================] - 39s 1s/step - loss: 0.3804 - accuracy: 0.8258 - val_loss: 0.7567 - val_accuracy: 0.6900\n"
     ]
    }
   ],
   "source": [
    "history = model.fit(x=train_imgs, y=train_labels_enc,\n",
    "                    validation_data=(val_imgs, validation_labels_enc),\n",
    "                    batch_size=32,\n",
    "                    epochs=20,\n",
    "                    verbose=1)"
   ]
  },
  {
   "cell_type": "code",
   "execution_count": 33,
   "metadata": {
    "colab": {
     "base_uri": "https://localhost:8080/",
     "height": 51
    },
    "id": "_51o9ZO-NTGz",
    "outputId": "8eada9f4-9798-4197-a721-ef2f4d7be31a"
   },
   "outputs": [
    {
     "name": "stdout",
     "output_type": "stream",
     "text": [
      "13/13 [==============================] - 3s 222ms/step - loss: 0.7832 - accuracy: 0.6775\n",
      "test accuracy 0.6775000095367432\n"
     ]
    }
   ],
   "source": [
    "loss, acc=model.evaluate(test_imgs, test_labels_enc)\n",
    "print(f'test accuracy {acc}')"
   ]
  },
  {
   "cell_type": "code",
   "execution_count": 34,
   "metadata": {
    "colab": {
     "base_uri": "https://localhost:8080/",
     "height": 281
    },
    "id": "s18Cugw_NTNB",
    "outputId": "7f8390f2-0f46-4d24-d127-2094153a998f"
   },
   "outputs": [
    {
     "data": {
      "image/png": "[encoded data removed]",
      "text/plain": [
       "<Figure size 432x288 with 1 Axes>"
      ]
     },
     "metadata": {
      "needs_background": "light",
      "tags": []
     },
     "output_type": "display_data"
    }
   ],
   "source": [
    "plt.plot(history.history['loss'], label=\"train_loss\")\n",
    "plt.plot(history.history['val_loss'], label=\"val_loss\")\n",
    "plt.title('Training and validation loss')\n",
    "plt.legend(loc=\"upper left\")\n",
    "plt.show()"
   ]
  },
  {
   "cell_type": "code",
   "execution_count": null,
   "metadata": {
    "id": "2J7RtJ8Zr62w"
   },
   "outputs": [],
   "source": []
  },
  {
   "cell_type": "code",
   "execution_count": null,
   "metadata": {
    "id": "sss4NdyXboc8"
   },
   "outputs": [],
   "source": []
  },
  {
   "cell_type": "markdown",
   "metadata": {
    "id": "q8bI_7qgV-rU"
   },
   "source": [
    "**Loading VGG**"
   ]
  },
  {
   "cell_type": "code",
   "execution_count": 35,
   "metadata": {
    "colab": {
     "base_uri": "https://localhost:8080/",
     "height": 51
    },
    "id": "ifFJGS2PV9pA",
    "outputId": "c3865790-945d-4a6c-b5ee-6bdb926ee5e7"
   },
   "outputs": [
    {
     "name": "stdout",
     "output_type": "stream",
     "text": [
      "Downloading data from https://storage.googleapis.com/tensorflow/keras-applications/vgg16/vgg16_weights_tf_dim_ordering_tf_kernels_notop.h5\n",
      "58892288/58889256 [==============================] - 1s 0us/step\n"
     ]
    }
   ],
   "source": [
    "input_shape = (150, 150, 3)\n",
    "vgg = VGG16(include_top=False, weights='imagenet', \n",
    "                                     input_shape=input_shape)"
   ]
  },
  {
   "cell_type": "code",
   "execution_count": 36,
   "metadata": {
    "colab": {
     "base_uri": "https://localhost:8080/",
     "height": 799
    },
    "id": "jfqLJfw2V9kb",
    "outputId": "dfc1334f-e93c-47b3-d957-a9faa8cafaf2"
   },
   "outputs": [
    {
     "name": "stdout",
     "output_type": "stream",
     "text": [
      "Model: \"vgg16\"\n",
      "_________________________________________________________________\n",
      "Layer (type)                 Output Shape              Param #   \n",
      "=================================================================\n",
      "input_1 (InputLayer)         [(None, 150, 150, 3)]     0         \n",
      "_________________________________________________________________\n",
      "block1_conv1 (Conv2D)        (None, 150, 150, 64)      1792      \n",
      "_________________________________________________________________\n",
      "block1_conv2 (Conv2D)        (None, 150, 150, 64)      36928     \n",
      "_________________________________________________________________\n",
      "block1_pool (MaxPooling2D)   (None, 75, 75, 64)        0         \n",
      "_________________________________________________________________\n",
      "block2_conv1 (Conv2D)        (None, 75, 75, 128)       73856     \n",
      "_________________________________________________________________\n",
      "block2_conv2 (Conv2D)        (None, 75, 75, 128)       147584    \n",
      "_________________________________________________________________\n",
      "block2_pool (MaxPooling2D)   (None, 37, 37, 128)       0         \n",
      "_________________________________________________________________\n",
      "block3_conv1 (Conv2D)        (None, 37, 37, 256)       295168    \n",
      "_________________________________________________________________\n",
      "block3_conv2 (Conv2D)        (None, 37, 37, 256)       590080    \n",
      "_________________________________________________________________\n",
      "block3_conv3 (Conv2D)        (None, 37, 37, 256)       590080    \n",
      "_________________________________________________________________\n",
      "block3_pool (MaxPooling2D)   (None, 18, 18, 256)       0         \n",
      "_________________________________________________________________\n",
      "block4_conv1 (Conv2D)        (None, 18, 18, 512)       1180160   \n",
      "_________________________________________________________________\n",
      "block4_conv2 (Conv2D)        (None, 18, 18, 512)       2359808   \n",
      "_________________________________________________________________\n",
      "block4_conv3 (Conv2D)        (None, 18, 18, 512)       2359808   \n",
      "_________________________________________________________________\n",
      "block4_pool (MaxPooling2D)   (None, 9, 9, 512)         0         \n",
      "_________________________________________________________________\n",
      "block5_conv1 (Conv2D)        (None, 9, 9, 512)         2359808   \n",
      "_________________________________________________________________\n",
      "block5_conv2 (Conv2D)        (None, 9, 9, 512)         2359808   \n",
      "_________________________________________________________________\n",
      "block5_conv3 (Conv2D)        (None, 9, 9, 512)         2359808   \n",
      "_________________________________________________________________\n",
      "block5_pool (MaxPooling2D)   (None, 4, 4, 512)         0         \n",
      "=================================================================\n",
      "Total params: 14,714,688\n",
      "Trainable params: 14,714,688\n",
      "Non-trainable params: 0\n",
      "_________________________________________________________________\n"
     ]
    }
   ],
   "source": [
    "vgg.summary()"
   ]
  },
  {
   "cell_type": "code",
   "execution_count": 37,
   "metadata": {
    "colab": {
     "base_uri": "https://localhost:8080/",
     "height": 303
    },
    "id": "pOeB9c21Se5g",
    "outputId": "a32bc0f3-6485-4688-b577-1dc05101e16d"
   },
   "outputs": [
    {
     "name": "stdout",
     "output_type": "stream",
     "text": [
      "(1, 4, 4, 512)\n"
     ]
    },
    {
     "data": {
      "text/plain": [
       "<matplotlib.image.AxesImage at 0x7f05e1313358>"
      ]
     },
     "execution_count": 37,
     "metadata": {
      "tags": []
     },
     "output_type": "execute_result"
    },
    {
     "data": {
      "image/png": "[encoded data removed]",
      "text/plain": [
       "<Figure size 432x288 with 1 Axes>"
      ]
     },
     "metadata": {
      "needs_background": "light",
      "tags": []
     },
     "output_type": "display_data"
    }
   ],
   "source": [
    "bottleneck_feature_example = vgg.predict(train_imgs[0:1])\n",
    "print(bottleneck_feature_example.shape)\n",
    "plt.imshow(bottleneck_feature_example[0][:,:,0])"
   ]
  },
  {
   "cell_type": "markdown",
   "metadata": {
    "id": "1gq7zuBCMtnW"
   },
   "source": [
    "**Extract features using pretrained vgg model**"
   ]
  },
  {
   "cell_type": "code",
   "execution_count": 38,
   "metadata": {
    "id": "kD26kNgvWxQG"
   },
   "outputs": [],
   "source": [
    "def get_bottleneck_features(model, input_imgs):\n",
    "    features = model.predict(input_imgs, verbose=0)\n",
    "    return features"
   ]
  },
  {
   "cell_type": "code",
   "execution_count": 39,
   "metadata": {
    "colab": {
     "base_uri": "https://localhost:8080/",
     "height": 51
    },
    "id": "FqzVPN9QWz1k",
    "outputId": "2c5fb0ee-ec04-4531-bf66-4cc6ed4ea199"
   },
   "outputs": [
    {
     "name": "stdout",
     "output_type": "stream",
     "text": [
      "Train Bottleneck Features: (1200, 4, 4, 512) \tValidation Bottleneck Features: (400, 4, 4, 512) \n",
      "Test Bottleneck Features: (400, 4, 4, 512)\n"
     ]
    }
   ],
   "source": [
    "train_features_vgg = get_bottleneck_features(vgg, train_imgs)\n",
    "validation_features_vgg = get_bottleneck_features(vgg, val_imgs)\n",
    "test_features_vgg = get_bottleneck_features(vgg, test_imgs)\n",
    "\n",
    "print('Train Bottleneck Features:', train_features_vgg.shape, \n",
    "      '\\tValidation Bottleneck Features:', validation_features_vgg.shape,\n",
    "     '\\nTest Bottleneck Features:', test_features_vgg.shape)"
   ]
  },
  {
   "cell_type": "code",
   "execution_count": 40,
   "metadata": {
    "id": "PxZxADW7WX6e"
   },
   "outputs": [],
   "source": [
    "vgg_features_train=train_features_vgg.reshape(train_features_vgg.shape[0], -1)\n",
    "vgg_features_val=validation_features_vgg.reshape(validation_features_vgg.shape[0], -1)\n",
    "vgg_features_test=test_features_vgg.reshape(test_features_vgg.shape[0],-1)"
   ]
  },
  {
   "cell_type": "code",
   "execution_count": 41,
   "metadata": {
    "colab": {
     "base_uri": "https://localhost:8080/",
     "height": 34
    },
    "id": "ddZJtVhVWX2U",
    "outputId": "0cfd3a10-030e-4c92-811d-888e67db8d61"
   },
   "outputs": [
    {
     "data": {
      "text/plain": [
       "(1200, 8192)"
      ]
     },
     "execution_count": 41,
     "metadata": {
      "tags": []
     },
     "output_type": "execute_result"
    }
   ],
   "source": [
    "vgg_features_train.shape"
   ]
  },
  {
   "cell_type": "code",
   "execution_count": 42,
   "metadata": {
    "colab": {
     "base_uri": "https://localhost:8080/",
     "height": 323
    },
    "id": "q0Rc8SC_Sfkx",
    "outputId": "ede89cee-4ec1-4e5f-b974-27d2e8fcbaf4"
   },
   "outputs": [
    {
     "name": "stdout",
     "output_type": "stream",
     "text": [
      "Model: \"sequential_1\"\n",
      "_________________________________________________________________\n",
      "Layer (type)                 Output Shape              Param #   \n",
      "=================================================================\n",
      "dense_2 (Dense)              (None, 512)               4194816   \n",
      "_________________________________________________________________\n",
      "dropout_2 (Dropout)          (None, 512)               0         \n",
      "_________________________________________________________________\n",
      "dense_3 (Dense)              (None, 512)               262656    \n",
      "_________________________________________________________________\n",
      "dropout_3 (Dropout)          (None, 512)               0         \n",
      "_________________________________________________________________\n",
      "dense_4 (Dense)              (None, 1)                 513       \n",
      "=================================================================\n",
      "Total params: 4,457,985\n",
      "Trainable params: 4,457,985\n",
      "Non-trainable params: 0\n",
      "_________________________________________________________________\n"
     ]
    }
   ],
   "source": [
    "input_shape = vgg_features_train.shape[1]\n",
    "\n",
    "model = Sequential()\n",
    "model.add(InputLayer(input_shape=(input_shape,)))\n",
    "model.add(Dense(512, activation='relu', input_dim=input_shape))\n",
    "model.add(Dropout(0.3))\n",
    "model.add(Dense(512, activation='relu'))\n",
    "model.add(Dropout(0.3))\n",
    "model.add(Dense(1, activation='sigmoid'))\n",
    "\n",
    "model.compile(loss='binary_crossentropy',  optimizer=optimizers.RMSprop(lr=1e-4),  metrics=['accuracy'])\n",
    "model.summary()"
   ]
  },
  {
   "cell_type": "code",
   "execution_count": 43,
   "metadata": {
    "colab": {
     "base_uri": "https://localhost:8080/",
     "height": 697
    },
    "id": "HQZ-5DHUSfiN",
    "outputId": "214f2801-3220-4d42-83bb-6c01607b647e"
   },
   "outputs": [
    {
     "name": "stdout",
     "output_type": "stream",
     "text": [
      "Epoch 1/20\n",
      "38/38 [==============================] - 2s 54ms/step - loss: 0.5317 - accuracy: 0.7275 - val_loss: 0.5218 - val_accuracy: 0.7275\n",
      "Epoch 2/20\n",
      "38/38 [==============================] - 2s 51ms/step - loss: 0.3407 - accuracy: 0.8475 - val_loss: 0.3065 - val_accuracy: 0.8725\n",
      "Epoch 3/20\n",
      "38/38 [==============================] - 2s 51ms/step - loss: 0.2895 - accuracy: 0.8700 - val_loss: 0.2839 - val_accuracy: 0.8900\n",
      "Epoch 4/20\n",
      "38/38 [==============================] - 2s 51ms/step - loss: 0.2347 - accuracy: 0.9008 - val_loss: 0.2740 - val_accuracy: 0.8950\n",
      "Epoch 5/20\n",
      "38/38 [==============================] - 2s 51ms/step - loss: 0.1837 - accuracy: 0.9275 - val_loss: 0.3545 - val_accuracy: 0.8525\n",
      "Epoch 6/20\n",
      "38/38 [==============================] - 2s 51ms/step - loss: 0.1530 - accuracy: 0.9483 - val_loss: 0.2730 - val_accuracy: 0.8950\n",
      "Epoch 7/20\n",
      "38/38 [==============================] - 2s 52ms/step - loss: 0.1342 - accuracy: 0.9508 - val_loss: 0.3543 - val_accuracy: 0.8600\n",
      "Epoch 8/20\n",
      "38/38 [==============================] - 2s 51ms/step - loss: 0.1224 - accuracy: 0.9500 - val_loss: 0.3354 - val_accuracy: 0.8675\n",
      "Epoch 9/20\n",
      "38/38 [==============================] - 2s 52ms/step - loss: 0.0774 - accuracy: 0.9742 - val_loss: 0.3351 - val_accuracy: 0.8875\n",
      "Epoch 10/20\n",
      "38/38 [==============================] - 2s 53ms/step - loss: 0.0764 - accuracy: 0.9733 - val_loss: 0.3211 - val_accuracy: 0.8900\n",
      "Epoch 11/20\n",
      "38/38 [==============================] - 2s 51ms/step - loss: 0.0540 - accuracy: 0.9792 - val_loss: 0.3728 - val_accuracy: 0.8850\n",
      "Epoch 12/20\n",
      "38/38 [==============================] - 2s 52ms/step - loss: 0.0447 - accuracy: 0.9858 - val_loss: 0.3521 - val_accuracy: 0.8900\n",
      "Epoch 13/20\n",
      "38/38 [==============================] - 2s 54ms/step - loss: 0.0435 - accuracy: 0.9825 - val_loss: 0.3996 - val_accuracy: 0.8800\n",
      "Epoch 14/20\n",
      "38/38 [==============================] - 2s 52ms/step - loss: 0.0535 - accuracy: 0.9842 - val_loss: 0.3997 - val_accuracy: 0.8850\n",
      "Epoch 15/20\n",
      "38/38 [==============================] - 2s 51ms/step - loss: 0.0074 - accuracy: 1.0000 - val_loss: 0.5929 - val_accuracy: 0.8600\n",
      "Epoch 16/20\n",
      "38/38 [==============================] - 2s 52ms/step - loss: 0.0207 - accuracy: 0.9975 - val_loss: 0.4331 - val_accuracy: 0.8950\n",
      "Epoch 17/20\n",
      "38/38 [==============================] - 2s 51ms/step - loss: 0.0322 - accuracy: 0.9917 - val_loss: 0.4389 - val_accuracy: 0.8850\n",
      "Epoch 18/20\n",
      "38/38 [==============================] - 2s 51ms/step - loss: 0.0277 - accuracy: 0.9908 - val_loss: 0.4478 - val_accuracy: 0.8875\n",
      "Epoch 19/20\n",
      "38/38 [==============================] - 2s 53ms/step - loss: 0.0027 - accuracy: 1.0000 - val_loss: 0.5507 - val_accuracy: 0.8775\n",
      "Epoch 20/20\n",
      "38/38 [==============================] - 2s 52ms/step - loss: 0.0200 - accuracy: 0.9917 - val_loss: 0.4710 - val_accuracy: 0.8925\n"
     ]
    }
   ],
   "source": [
    "history = model.fit(x=vgg_features_train, y=train_labels_enc,\n",
    "                    validation_data=(vgg_features_val, validation_labels_enc),\n",
    "                    batch_size=32,\n",
    "                    epochs=20,\n",
    "                    verbose=1)"
   ]
  },
  {
   "cell_type": "code",
   "execution_count": 44,
   "metadata": {
    "colab": {
     "base_uri": "https://localhost:8080/",
     "height": 51
    },
    "id": "JCUcV3upSff3",
    "outputId": "22f03182-3d6c-4d41-fd7e-50f60ec1b0da"
   },
   "outputs": [
    {
     "name": "stdout",
     "output_type": "stream",
     "text": [
      "13/13 [==============================] - 0s 10ms/step - loss: 0.2702 - accuracy: 0.9200\n",
      "test accuracy 0.9200000166893005\n"
     ]
    }
   ],
   "source": [
    "loss, acc=model.evaluate(vgg_features_test, test_labels_enc)\n",
    "print(f'test accuracy {acc}')"
   ]
  },
  {
   "cell_type": "code",
   "execution_count": 45,
   "metadata": {
    "colab": {
     "base_uri": "https://localhost:8080/",
     "height": 281
    },
    "id": "C2GkjslQSfch",
    "outputId": "836be429-c8a8-4b35-b14d-ec9550a5b510"
   },
   "outputs": [
    {
     "data": {
      "image/png": "[encoded data removed]",
      "text/plain": [
       "<Figure size 432x288 with 1 Axes>"
      ]
     },
     "metadata": {
      "needs_background": "light",
      "tags": []
     },
     "output_type": "display_data"
    }
   ],
   "source": [
    "plt.plot(history.history['loss'], label=\"train_loss\")\n",
    "plt.plot(history.history['val_loss'], label=\"val_loss\")\n",
    "plt.title('Training and validation loss')\n",
    "plt.legend(loc=\"upper left\")\n",
    "plt.show()"
   ]
  },
  {
   "cell_type": "code",
   "execution_count": 45,
   "metadata": {
    "id": "lfEWHlZ1SfaJ"
   },
   "outputs": [],
   "source": []
  },
  {
   "cell_type": "code",
   "execution_count": 46,
   "metadata": {
    "colab": {
     "base_uri": "https://localhost:8080/",
     "height": 34
    },
    "id": "75uYyu5wSfX2",
    "outputId": "bd943b6c-0ec0-43c6-ef21-967487bf3017"
   },
   "outputs": [
    {
     "data": {
      "text/plain": [
       "8192"
      ]
     },
     "execution_count": 46,
     "metadata": {
      "tags": []
     },
     "output_type": "execute_result"
    }
   ],
   "source": [
    "input_shape"
   ]
  },
  {
   "cell_type": "markdown",
   "metadata": {
    "id": "EzJY4pnqQ9xu"
   },
   "source": [
    "**Inception Model**"
   ]
  },
  {
   "cell_type": "code",
   "execution_count": 47,
   "metadata": {
    "id": "Dy-wxmVHSfUZ"
   },
   "outputs": [],
   "source": [
    "from keras.applications.inception_v3 import InceptionV3\n",
    "from keras.utils.np_utils import to_categorical \n",
    "from keras.models import Model\n",
    "from keras.optimizers import Adam\n",
    "from keras.layers import GlobalAveragePooling2D                            "
   ]
  },
  {
   "cell_type": "code",
   "execution_count": 48,
   "metadata": {
    "id": "UwxkWtfdS9yu"
   },
   "outputs": [],
   "source": [
    "train_labels_c=to_categorical(train_labels_enc)\n",
    "validation_labels_c=to_categorical(validation_labels_enc)\n",
    "test_labels_c=to_categorical(test_labels_enc)"
   ]
  },
  {
   "cell_type": "code",
   "execution_count": 48,
   "metadata": {
    "id": "q37G_1SDS93G"
   },
   "outputs": [],
   "source": []
  },
  {
   "cell_type": "code",
   "execution_count": 49,
   "metadata": {
    "colab": {
     "base_uri": "https://localhost:8080/",
     "height": 51
    },
    "id": "yOXpkeSPRiM0",
    "outputId": "669cbefb-8504-423a-964d-f0a077726f10"
   },
   "outputs": [
    {
     "name": "stdout",
     "output_type": "stream",
     "text": [
      "Downloading data from https://storage.googleapis.com/tensorflow/keras-applications/inception_v3/inception_v3_weights_tf_dim_ordering_tf_kernels_notop.h5\n",
      "87916544/87910968 [==============================] - 1s 0us/step\n"
     ]
    }
   ],
   "source": [
    "input_shape = (150, 150, 3)\n",
    "base_inception = InceptionV3(weights='imagenet', include_top=False, \n",
    "                             input_shape=input_shape)"
   ]
  },
  {
   "cell_type": "code",
   "execution_count": 52,
   "metadata": {
    "id": "W2GhaqnFSfEE"
   },
   "outputs": [],
   "source": [
    "# Add a global spatial average pooling layer\n",
    "out = base_inception.output\n",
    "out = GlobalAveragePooling2D()(out)\n",
    "out = Dense(512, activation='relu')(out)\n",
    "out = Dense(512, activation='relu')(out)\n",
    "total_classes = 2\n",
    "predictions = Dense(total_classes, activation='softmax')(out)\n",
    "\n",
    "model = Model(inputs=base_inception.input, outputs=predictions)\n",
    "\n",
    "#freeze layers\n",
    "for layer in base_inception.layers:\n",
    "    layer.trainable = False\n",
    "    \n",
    "# Compile \n",
    "model.compile(Adam(lr=.0001), loss='categorical_crossentropy', metrics=['accuracy']) \n",
    "# model.summary()"
   ]
  },
  {
   "cell_type": "code",
   "execution_count": 53,
   "metadata": {
    "colab": {
     "base_uri": "https://localhost:8080/",
     "height": 221
    },
    "id": "_sqb6yDPSe2y",
    "outputId": "5a777b75-f8d5-4a9e-cd45-928fe8d0ccc6"
   },
   "outputs": [
    {
     "name": "stdout",
     "output_type": "stream",
     "text": [
      "Epoch 1/6\n",
      "38/38 [==============================] - 59s 2s/step - loss: 0.2264 - accuracy: 0.8992 - val_loss: 0.0980 - val_accuracy: 0.9525\n",
      "Epoch 2/6\n",
      "38/38 [==============================] - 58s 2s/step - loss: 0.0525 - accuracy: 0.9792 - val_loss: 0.0861 - val_accuracy: 0.9600\n",
      "Epoch 3/6\n",
      "38/38 [==============================] - 58s 2s/step - loss: 0.0250 - accuracy: 0.9967 - val_loss: 0.0811 - val_accuracy: 0.9700\n",
      "Epoch 4/6\n",
      "38/38 [==============================] - 58s 2s/step - loss: 0.0162 - accuracy: 0.9992 - val_loss: 0.0850 - val_accuracy: 0.9600\n",
      "Epoch 5/6\n",
      "38/38 [==============================] - 58s 2s/step - loss: 0.0079 - accuracy: 1.0000 - val_loss: 0.0838 - val_accuracy: 0.9625\n",
      "Epoch 6/6\n",
      "38/38 [==============================] - 61s 2s/step - loss: 0.0047 - accuracy: 1.0000 - val_loss: 0.0807 - val_accuracy: 0.9675\n"
     ]
    }
   ],
   "source": [
    "history = model.fit(x=train_imgs, y=train_labels_c,\n",
    "                    validation_data=(val_imgs, validation_labels_c),\n",
    "                    batch_size=32,\n",
    "                    epochs=6,\n",
    "                    verbose=1)"
   ]
  },
  {
   "cell_type": "code",
   "execution_count": 54,
   "metadata": {
    "colab": {
     "base_uri": "https://localhost:8080/",
     "height": 281
    },
    "id": "ER9KvWUESez1",
    "outputId": "a650f388-3e0b-401a-c519-6d523b5c0dfc"
   },
   "outputs": [
    {
     "data": {
      "image/png": "[encoded data removed]",
      "text/plain": [
       "<Figure size 432x288 with 1 Axes>"
      ]
     },
     "metadata": {
      "needs_background": "light",
      "tags": []
     },
     "output_type": "display_data"
    }
   ],
   "source": [
    "plt.plot(history.history['loss'], label=\"train_loss\")\n",
    "plt.plot(history.history['val_loss'], label=\"val_loss\")\n",
    "plt.title('Training and validation loss')\n",
    "plt.legend(loc=\"upper left\")\n",
    "plt.show()"
   ]
  },
  {
   "cell_type": "code",
   "execution_count": 55,
   "metadata": {
    "colab": {
     "base_uri": "https://localhost:8080/",
     "height": 51
    },
    "id": "2wIg8ZdzSexL",
    "outputId": "ec9e07f0-bf2c-4a0b-d746-833cbc5b9803"
   },
   "outputs": [
    {
     "name": "stdout",
     "output_type": "stream",
     "text": [
      "13/13 [==============================] - 14s 1s/step - loss: 0.0917 - accuracy: 0.9625\n",
      "test accuracy 0.9624999761581421\n"
     ]
    }
   ],
   "source": [
    "loss, acc=model.evaluate(test_imgs, test_labels_c)\n",
    "print(f'test accuracy {acc}')"
   ]
  },
  {
   "cell_type": "code",
   "execution_count": null,
   "metadata": {
    "id": "T_o-1TJaSaAD"
   },
   "outputs": [],
   "source": []
  },
  {
   "cell_type": "markdown",
   "metadata": {
    "id": "qzWy1ivTSiPj"
   },
   "source": [
    "**Clean Up**"
   ]
  },
  {
   "cell_type": "code",
   "execution_count": null,
   "metadata": {
    "id": "TOac-agYSCMU"
   },
   "outputs": [],
   "source": [
    "import os, signal\n",
    "os.kill(os.getpid(), signal.SIGKILL)"
   ]
  },
  {
   "cell_type": "code",
   "execution_count": null,
   "metadata": {
    "id": "t0hz0QxFUNRE"
   },
   "outputs": [],
   "source": [
    "#Helpful Tutorial: https://towardsdatascience.com/a-comprehensive-hands-on-guide-to-transfer-learning-with-real-world-applications-in-deep-learning-212bf3b2f27a"
   ]
  },
  {
   "cell_type": "markdown",
   "metadata": {
    "id": "-Fq85nY-UlBP"
   },
   "source": []
  }
 ],
 "metadata": {
  "accelerator": "TPU",
  "colab": {
   "collapsed_sections": [],
   "name": "cats_dogs2",
   "provenance": []
  },
  "kernelspec": {
   "display_name": "Python 3",
   "language": "python",
   "name": "python3"
  },
  "language_info": {
   "codemirror_mode": {
    "name": "ipython",
    "version": 3
   },
   "file_extension": ".py",
   "mimetype": "text/x-python",
   "name": "python",
   "nbconvert_exporter": "python",
   "pygments_lexer": "ipython3",
   "version": "3.7.6"
  }
 },
 "nbformat": 4,
 "nbformat_minor": 1
}
