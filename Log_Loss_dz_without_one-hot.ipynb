{
 "cells": [
  {
   "cell_type": "code",
   "execution_count": 1,
   "metadata": {},
   "outputs": [],
   "source": [
    "import numpy as np"
   ]
  },
  {
   "cell_type": "markdown",
   "metadata": {},
   "source": [
    "### Goal: This notebook will help you coding dz=a-y and cross entropy loss without using one-hot y"
   ]
  },
  {
   "cell_type": "code",
   "execution_count": 6,
   "metadata": {},
   "outputs": [
    {
     "name": "stdout",
     "output_type": "stream",
     "text": [
      "acutal: [0 0 1 1 2 2 2]\n"
     ]
    }
   ],
   "source": [
    "y=np.array([0,0,1,1,2,2,2])\n",
    "print('acutal:',y)"
   ]
  },
  {
   "cell_type": "code",
   "execution_count": 3,
   "metadata": {},
   "outputs": [],
   "source": [
    "#prediction\n",
    "a=np.array([ [0.3, 0.5, 0.2], [0.1, 0.7, 0.2], [0.15, 0.05, 0.8], [0.35, 0.5, 0.15], [0.03, 0.17, 0.8], [0.93, 0.05, 0.02], [0.7, 0.12, 0.18]])"
   ]
  },
  {
   "cell_type": "code",
   "execution_count": 8,
   "metadata": {},
   "outputs": [
    {
     "name": "stdout",
     "output_type": "stream",
     "text": [
      "prediction:\n",
      " [[0.3  0.5  0.2 ]\n",
      " [0.1  0.7  0.2 ]\n",
      " [0.15 0.05 0.8 ]\n",
      " [0.35 0.5  0.15]\n",
      " [0.03 0.17 0.8 ]\n",
      " [0.93 0.05 0.02]\n",
      " [0.7  0.12 0.18]]\n"
     ]
    }
   ],
   "source": [
    "print('prediction:\\n',a)"
   ]
  },
  {
   "cell_type": "markdown",
   "metadata": {},
   "source": [
    "<b>Calculate cross-entropy loss</b>"
   ]
  },
  {
   "cell_type": "code",
   "execution_count": 15,
   "metadata": {},
   "outputs": [
    {
     "name": "stdout",
     "output_type": "stream",
     "text": [
      "[[1. 0. 0.]\n",
      " [1. 0. 0.]\n",
      " [0. 1. 0.]\n",
      " [0. 1. 0.]\n",
      " [0. 0. 1.]\n",
      " [0. 0. 1.]\n",
      " [0. 0. 1.]]\n"
     ]
    }
   ],
   "source": [
    "#converting onehot\n",
    "N=7\n",
    "y_onehot=np.zeros((N, 3))\n",
    "y_onehot[ range(N), y]=1\n",
    "print(y_onehot)"
   ]
  },
  {
   "cell_type": "code",
   "execution_count": 24,
   "metadata": {},
   "outputs": [
    {
     "name": "stdout",
     "output_type": "stream",
     "text": [
      "[[1.2039728 ]\n",
      " [2.30258509]\n",
      " [2.99573227]\n",
      " [0.69314718]\n",
      " [0.22314355]\n",
      " [3.91202301]\n",
      " [1.71479843]]\n"
     ]
    }
   ],
   "source": [
    "L=-np.sum( y_onehot*np.log(a) , axis=1, keepdims=True)\n",
    "print(L)"
   ]
  },
  {
   "cell_type": "markdown",
   "metadata": {},
   "source": [
    "<b>Calculate cross-entropy loss without one-hot</b> <br>\n",
    "<b>Note: without using loop</b>"
   ]
  },
  {
   "cell_type": "code",
   "execution_count": 20,
   "metadata": {},
   "outputs": [],
   "source": [
    "#your code goes here"
   ]
  },
  {
   "cell_type": "code",
   "execution_count": null,
   "metadata": {},
   "outputs": [],
   "source": []
  },
  {
   "cell_type": "markdown",
   "metadata": {},
   "source": [
    "<b>Calculate dz=a-y_onehot using one-hot y</b>"
   ]
  },
  {
   "cell_type": "code",
   "execution_count": 22,
   "metadata": {},
   "outputs": [
    {
     "data": {
      "text/plain": [
       "array([[-0.7 ,  0.5 ,  0.2 ],\n",
       "       [-0.9 ,  0.7 ,  0.2 ],\n",
       "       [ 0.15, -0.95,  0.8 ],\n",
       "       [ 0.35, -0.5 ,  0.15],\n",
       "       [ 0.03,  0.17, -0.2 ],\n",
       "       [ 0.93,  0.05, -0.98],\n",
       "       [ 0.7 ,  0.12, -0.82]])"
      ]
     },
     "execution_count": 22,
     "metadata": {},
     "output_type": "execute_result"
    }
   ],
   "source": [
    "dz=a-y_onehot\n",
    "dz"
   ]
  },
  {
   "cell_type": "markdown",
   "metadata": {},
   "source": [
    "<b>Task: Calculate dz=a-y without one-hot y</b>\n",
    " <br>\n",
    "<b>Note: without using loop</b>"
   ]
  },
  {
   "cell_type": "code",
   "execution_count": 25,
   "metadata": {},
   "outputs": [],
   "source": [
    "#your code goes here"
   ]
  },
  {
   "cell_type": "code",
   "execution_count": null,
   "metadata": {},
   "outputs": [],
   "source": []
  }
 ],
 "metadata": {
  "kernelspec": {
   "display_name": "Python 3",
   "language": "python",
   "name": "python3"
  },
  "language_info": {
   "codemirror_mode": {
    "name": "ipython",
    "version": 3
   },
   "file_extension": ".py",
   "mimetype": "text/x-python",
   "name": "python",
   "nbconvert_exporter": "python",
   "pygments_lexer": "ipython3",
   "version": "3.7.0"
  }
 },
 "nbformat": 4,
 "nbformat_minor": 2
}
