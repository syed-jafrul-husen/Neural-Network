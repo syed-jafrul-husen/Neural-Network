{
 "cells": [
  {
   "cell_type": "markdown",
   "metadata": {},
   "source": [
    "<b>FrozenLake8x8-v0</b> <br>\n",
    "The agent controls the movement of a character in a grid world. Some tiles of the grid are walkable, and others lead to the agent falling into the water. Additionally, the movement direction of the agent is uncertain and only partially depends on the chosen direction. The agent is rewarded for finding a walkable path to a goal tile.\n",
    "\n",
    "source: https://gym.openai.com/envs/FrozenLake8x8-v0/\n",
    " \n",
    "https://artint.info/html/ArtInt_227.html"
   ]
  },
  {
   "cell_type": "code",
   "execution_count": 1,
   "metadata": {},
   "outputs": [
    {
     "ename": "ModuleNotFoundError",
     "evalue": "No module named 'gym'",
     "output_type": "error",
     "traceback": [
      "\u001b[1;31m---------------------------------------------------------------------------\u001b[0m",
      "\u001b[1;31mModuleNotFoundError\u001b[0m                       Traceback (most recent call last)",
      "\u001b[1;32m<ipython-input-1-638d98cccec7>\u001b[0m in \u001b[0;36m<module>\u001b[1;34m\u001b[0m\n\u001b[1;32m----> 1\u001b[1;33m \u001b[1;32mimport\u001b[0m \u001b[0mgym\u001b[0m\u001b[1;33m\u001b[0m\u001b[1;33m\u001b[0m\u001b[0m\n\u001b[0m\u001b[0;32m      2\u001b[0m \u001b[1;32mimport\u001b[0m \u001b[0mnumpy\u001b[0m \u001b[1;32mas\u001b[0m \u001b[0mnp\u001b[0m\u001b[1;33m\u001b[0m\u001b[1;33m\u001b[0m\u001b[0m\n",
      "\u001b[1;31mModuleNotFoundError\u001b[0m: No module named 'gym'"
     ]
    }
   ],
   "source": [
    "import gym\n",
    "import numpy as np"
   ]
  },
  {
   "cell_type": "code",
   "execution_count": 3,
   "metadata": {},
   "outputs": [],
   "source": [
    "env= gym.make('FrozenLake8x8-v0')"
   ]
  },
  {
   "cell_type": "markdown",
   "metadata": {},
   "source": [
    "<b>Transition model is given</b><br>\n",
    "<b>Actions</b><br>\n",
    "LEFT = 0 <br>\n",
    "DOWN = 1 <br>\n",
    "RIGHT = 2 <br>\n",
    "UP = 3 <br>\n",
    "<b>Rewards</b><br>\n",
    "Reach G=+1 <br>\n",
    "F=0 <br>\n",
    "H=terminate<br>"
   ]
  },
  {
   "cell_type": "code",
   "execution_count": 4,
   "metadata": {},
   "outputs": [
    {
     "name": "stdout",
     "output_type": "stream",
     "text": [
      "total states 64\n",
      "total actions 4\n"
     ]
    }
   ],
   "source": [
    "print(f'total states {env.nS}')\n",
    "print(f'total actions {env.nA}')"
   ]
  },
  {
   "cell_type": "code",
   "execution_count": 5,
   "metadata": {},
   "outputs": [
    {
     "name": "stdout",
     "output_type": "stream",
     "text": [
      "Discrete(4)\n",
      "Discrete(64)\n"
     ]
    }
   ],
   "source": [
    "print(env.action_space) \n",
    "print(env.observation_space)"
   ]
  },
  {
   "cell_type": "code",
   "execution_count": 6,
   "metadata": {},
   "outputs": [
    {
     "data": {
      "text/plain": [
       "0"
      ]
     },
     "execution_count": 6,
     "metadata": {},
     "output_type": "execute_result"
    }
   ],
   "source": [
    "env.reset()"
   ]
  },
  {
   "cell_type": "code",
   "execution_count": 7,
   "metadata": {},
   "outputs": [
    {
     "data": {
      "text/plain": [
       "[(0.3333333333333333, 4, 0.0, False),\n",
       " (0.3333333333333333, 13, 0.0, False),\n",
       " (0.3333333333333333, 6, 0.0, False)]"
      ]
     },
     "execution_count": 7,
     "metadata": {},
     "output_type": "execute_result"
    }
   ],
   "source": [
    "#transition model\n",
    "#probability, next_state, reward, is_terminated\n",
    "state=5\n",
    "action=1\n",
    "env.P[state][action]"
   ]
  },
  {
   "cell_type": "code",
   "execution_count": 8,
   "metadata": {},
   "outputs": [
    {
     "name": "stdout",
     "output_type": "stream",
     "text": [
      "\n",
      "\u001b[41mS\u001b[0mFFFFFFF\n",
      "FFFFFFFF\n",
      "FFFHFFFF\n",
      "FFFFFHFF\n",
      "FFFHFFFF\n",
      "FHHFFFHF\n",
      "FHFFHFHF\n",
      "FFFHFFFG\n"
     ]
    }
   ],
   "source": [
    "env.render()"
   ]
  },
  {
   "cell_type": "code",
   "execution_count": 13,
   "metadata": {},
   "outputs": [
    {
     "name": "stdout",
     "output_type": "stream",
     "text": [
      "9 0.0 False {'prob': 0.3333333333333333}\n"
     ]
    }
   ],
   "source": [
    "action=2\n",
    "state, reward, done, info=env.step(action)\n",
    "print(state, reward, done, info)"
   ]
  },
  {
   "cell_type": "code",
   "execution_count": 14,
   "metadata": {},
   "outputs": [
    {
     "name": "stdout",
     "output_type": "stream",
     "text": [
      "  (Right)\n",
      "SFFFFFFF\n",
      "F\u001b[41mF\u001b[0mFFFFFF\n",
      "FFFHFFFF\n",
      "FFFFFHFF\n",
      "FFFHFFFF\n",
      "FHHFFFHF\n",
      "FHFFHFHF\n",
      "FFFHFFFG\n"
     ]
    }
   ],
   "source": [
    "env.render()"
   ]
  },
  {
   "cell_type": "code",
   "execution_count": 15,
   "metadata": {},
   "outputs": [],
   "source": [
    "env.close()"
   ]
  },
  {
   "cell_type": "markdown",
   "metadata": {},
   "source": [
    "<b>Solving MDP: we want an optimal policy $\\pi_*$</b>"
   ]
  },
  {
   "cell_type": "code",
   "execution_count": 16,
   "metadata": {},
   "outputs": [],
   "source": [
    "env= gym.make('FrozenLake8x8-v0')"
   ]
  },
  {
   "cell_type": "code",
   "execution_count": 17,
   "metadata": {},
   "outputs": [],
   "source": [
    "V=np.zeros(env.nS)"
   ]
  },
  {
   "cell_type": "code",
   "execution_count": 18,
   "metadata": {},
   "outputs": [
    {
     "name": "stdout",
     "output_type": "stream",
     "text": [
      "state 0\n"
     ]
    }
   ],
   "source": [
    "state=env.reset()\n",
    "print(f'state {state}')"
   ]
  },
  {
   "cell_type": "code",
   "execution_count": 19,
   "metadata": {},
   "outputs": [],
   "source": [
    "#current state to next state: calculate action values.\n",
    "#calculate q(s,a) values.\n",
    "def calc_action_values(env, V, state, gamma=1.0):\n",
    "    action_values=np.zeros(env.nA)\n",
    "    for action in range(env.nA):\n",
    "    #     print(f'state {action}')\n",
    "        transitions=env.P[state][action]\n",
    "        expected_action_value=0\n",
    "        for transition in transitions:\n",
    "            prob, next_state, reward, done=transition\n",
    "#             action_values[action]+=prob*(reward+gamma*V[next_state])\n",
    "            expected_action_value+=prob*(reward+gamma*V[next_state])\n",
    "        action_values[action]=expected_action_value\n",
    "    return action_values"
   ]
  },
  {
   "cell_type": "code",
   "execution_count": 20,
   "metadata": {},
   "outputs": [
    {
     "name": "stdout",
     "output_type": "stream",
     "text": [
      "[(0.3333333333333333, 0, 0.0, False), (0.3333333333333333, 0, 0.0, False), (0.3333333333333333, 8, 0.0, False)]\n"
     ]
    }
   ],
   "source": [
    "transitions=env.P[state][0]\n",
    "print(transitions)"
   ]
  },
  {
   "cell_type": "code",
   "execution_count": 21,
   "metadata": {},
   "outputs": [
    {
     "name": "stdout",
     "output_type": "stream",
     "text": [
      "[0. 0. 0. 0.]\n"
     ]
    }
   ],
   "source": [
    "va=calc_action_values(env, V, state, gamma=1.0)\n",
    "print(va)"
   ]
  },
  {
   "cell_type": "code",
   "execution_count": 22,
   "metadata": {},
   "outputs": [],
   "source": [
    "def value_iteration(env, gamma=1.0, theta=1e-9, max_iterations=1e9):\n",
    "    V=np.zeros(env.nS)\n",
    " \n",
    "    for i in range(int(max_iterations)):\n",
    "        max_delta=0 \n",
    "        for state in range(env.nS): \n",
    "            q_s_a=calc_action_values(env, V, state, gamma) \n",
    "            v=np.max(q_s_a)\n",
    "            max_delta= max(max_delta, np.abs(V[state]-v))\n",
    "            V[state]=v\n",
    "\n",
    "        if max_delta<theta:\n",
    "            print(f'converged at {i}th iteration')\n",
    "            break\n",
    "        elif i%100==0:\n",
    "            print(f'i={i} delta={max_delta}')\n",
    "    return V"
   ]
  },
  {
   "cell_type": "code",
   "execution_count": 23,
   "metadata": {},
   "outputs": [
    {
     "name": "stdout",
     "output_type": "stream",
     "text": [
      "i=0 delta=0.3333333333333333\n",
      "i=100 delta=0.005935014550153106\n",
      "i=200 delta=0.0011566134410481155\n",
      "i=300 delta=0.00021789749908740497\n",
      "i=400 delta=3.261293815104427e-05\n",
      "i=500 delta=4.496428475997405e-06\n",
      "i=600 delta=5.978876466139482e-07\n",
      "i=700 delta=7.812954527786076e-08\n",
      "i=800 delta=1.0121219196079778e-08\n",
      "i=900 delta=1.3053405023555342e-09\n",
      "converged at 914th iteration\n"
     ]
    }
   ],
   "source": [
    "env= gym.make('FrozenLake8x8-v0')\n",
    "state=env.reset() \n",
    "gamma=1.0\n",
    "V=value_iteration(env, gamma)"
   ]
  },
  {
   "cell_type": "code",
   "execution_count": 24,
   "metadata": {},
   "outputs": [
    {
     "data": {
      "text/plain": [
       "array([0.99999999, 0.99999999, 0.99999999, 0.99999999, 0.99999999,\n",
       "       0.99999999, 0.99999999, 0.99999999, 0.99999999, 0.99999999,\n",
       "       0.99999999, 0.99999999, 0.99999999, 0.99999999, 0.99999999,\n",
       "       0.99999999, 0.99999998, 0.97820162, 0.9264305 , 0.        ,\n",
       "       0.85661767, 0.94623162, 0.9820772 , 0.99999999, 0.99999997,\n",
       "       0.93460488, 0.8010899 , 0.47490377, 0.62362139, 0.        ,\n",
       "       0.9446776 , 1.        , 0.99999996, 0.82561305, 0.54223432,\n",
       "       0.        , 0.53934275, 0.61118923, 0.85195561, 1.        ,\n",
       "       0.99999996, 0.        , 0.        , 0.16804079, 0.38321762,\n",
       "       0.44226933, 0.        , 1.        , 0.99999995, 0.        ,\n",
       "       0.19467346, 0.12090475, 0.        , 0.33240114, 0.        ,\n",
       "       1.        , 0.99999995, 0.73155779, 0.46311562, 0.        ,\n",
       "       0.27746705, 0.5549341 , 0.77746705, 0.        ])"
      ]
     },
     "execution_count": 24,
     "metadata": {},
     "output_type": "execute_result"
    }
   ],
   "source": [
    "V"
   ]
  },
  {
   "cell_type": "code",
   "execution_count": 25,
   "metadata": {},
   "outputs": [],
   "source": [
    "#calculate best policy\n",
    "def calc_best_policy(env, V, gamma):\n",
    "    policy=np.zeros((env.nS, env.nA))\n",
    "    for state in range(env.nS):\n",
    "        action_values=calc_action_values(env, V, state, gamma) \n",
    "        action=np.argmax(action_values)\n",
    "        policy[state][action]=1.0\n",
    "    return policy"
   ]
  },
  {
   "cell_type": "code",
   "execution_count": 26,
   "metadata": {},
   "outputs": [],
   "source": [
    "policy=calc_best_policy(env, V, gamma)"
   ]
  },
  {
   "cell_type": "code",
   "execution_count": 30,
   "metadata": {},
   "outputs": [
    {
     "data": {
      "text/plain": [
       "array([[0., 0., 1., 0.],\n",
       "       [0., 0., 1., 0.],\n",
       "       [0., 0., 1., 0.],\n",
       "       [0., 0., 1., 0.],\n",
       "       [0., 0., 1., 0.]])"
      ]
     },
     "execution_count": 30,
     "metadata": {},
     "output_type": "execute_result"
    }
   ],
   "source": [
    "policy[:5]"
   ]
  },
  {
   "cell_type": "code",
   "execution_count": 27,
   "metadata": {},
   "outputs": [],
   "source": [
    "# Action mappings\n",
    "action_mapping = {\n",
    "    0: '\\u2191',  # UP\n",
    "    1: '\\u2192',  # RIGHT\n",
    "    2: '\\u2193',  # DOWN\n",
    "    3: '\\u2190',  # LEFT\n",
    "}"
   ]
  },
  {
   "cell_type": "code",
   "execution_count": 31,
   "metadata": {},
   "outputs": [
    {
     "name": "stdout",
     "output_type": "stream",
     "text": [
      "↓↓↓↓↓↓↓↓\n",
      "\n",
      "←←←←←←←↓\n",
      "\n",
      "↑↑↑↑↓←←↓\n",
      "\n",
      "↑↑↑→↑↑↓↓\n",
      "\n",
      "↑←↑↑↓→←↓\n",
      "\n",
      "↑↑↑→←↑↑↓\n",
      "\n",
      "↑↑→↑↑↑↑↓\n",
      "\n",
      "↑→↑↑→↓→↑\n",
      "\n"
     ]
    }
   ],
   "source": [
    "for i, action in enumerate( np.argmax(policy, axis=1) ):\n",
    "    print(action_mapping[action] , end='')\n",
    "    if (i+1)%8==0:\n",
    "        print('\\n')"
   ]
  },
  {
   "cell_type": "markdown",
   "metadata": {},
   "source": [
    "<b>play real episode</b>"
   ]
  },
  {
   "cell_type": "code",
   "execution_count": 34,
   "metadata": {},
   "outputs": [],
   "source": [
    "#play an episode using the best policy\n",
    "def play_episodes(policy, episodes=1000):\n",
    "    rewards=0\n",
    "    wins=0\n",
    "    for i in range(episodes):\n",
    "        state=env.reset()\n",
    "        done=False\n",
    "        while not done:\n",
    "            action=np.argmax(policy[state])\n",
    "            next_state,reward,done,info=env.step(action)\n",
    "            rewards+=reward\n",
    "            state=next_state\n",
    "            if done and reward==1.0:\n",
    "                wins+=1\n",
    "    return wins,rewards"
   ]
  },
  {
   "cell_type": "code",
   "execution_count": 39,
   "metadata": {},
   "outputs": [
    {
     "name": "stdout",
     "output_type": "stream",
     "text": [
      "total play 50 total wins 44 total rewards 44.0\n",
      "success rate 88.0%\n"
     ]
    }
   ],
   "source": [
    "episodes=50\n",
    "wins, rewards=play_episodes(policy, episodes=episodes)\n",
    "print(f'total play {episodes} total wins {wins} total rewards {rewards}')\n",
    "print(f'success rate {(wins/episodes)*100}%')"
   ]
  },
  {
   "cell_type": "code",
   "execution_count": null,
   "metadata": {},
   "outputs": [],
   "source": []
  },
  {
   "cell_type": "markdown",
   "metadata": {},
   "source": [
    "<b> Policy Iteration</b>"
   ]
  },
  {
   "cell_type": "code",
   "execution_count": 40,
   "metadata": {},
   "outputs": [],
   "source": [
    "def evaluate_policy(env, policy, gamma=1.0, theta=1e-9, max_iterations=1e9, verbose=True):\n",
    "    V=np.zeros(env.nS)\n",
    " \n",
    "    for i in range(int(max_iterations)):\n",
    "        max_delta=0  \n",
    "        for state in range(env.nS): \n",
    "            v=0\n",
    "            for action, action_probability in enumerate(policy[state]):\n",
    "                transitions=env.P[state][action]\n",
    "                for transition in transitions:\n",
    "                    prob, next_state, reward, done=transition\n",
    "                    v+=action_probability*prob*(reward+gamma*V[next_state])\n",
    "                \n",
    "            max_delta= max(max_delta, np.abs(V[state]-v))\n",
    "            V[state]=v\n",
    "\n",
    "        if max_delta<theta:\n",
    "            if verbose: print(f'converged at {i}th iteration')\n",
    "            break\n",
    "        elif verbose and i%100==0:\n",
    "            print(f'i={i} delta={max_delta}')\n",
    "    return V"
   ]
  },
  {
   "cell_type": "code",
   "execution_count": 41,
   "metadata": {},
   "outputs": [
    {
     "name": "stdout",
     "output_type": "stream",
     "text": [
      "i=0 delta=0.25\n",
      "i=100 delta=1.2094685439322309e-06\n",
      "i=200 delta=1.0118374701474642e-09\n",
      "converged at 201th iteration\n"
     ]
    }
   ],
   "source": [
    "policy = np.ones([env.nS, env.nA]) / env.nA\n",
    "V=evaluate_policy(env, policy, gamma)"
   ]
  },
  {
   "cell_type": "code",
   "execution_count": 42,
   "metadata": {},
   "outputs": [
    {
     "data": {
      "text/plain": [
       "array([1.90370064e-03, 2.16987521e-03, 2.81524143e-03, 4.12063764e-03,\n",
       "       6.54783773e-03, 9.80338625e-03, 1.34479660e-02, 1.59702839e-02,\n",
       "       1.63752959e-03, 1.79068576e-03, 2.15521328e-03, 2.99883535e-03,\n",
       "       5.71949092e-03, 9.41435675e-03, 1.45702296e-02, 1.84926037e-02,\n",
       "       1.21820444e-03, 1.20012599e-03, 1.01609128e-03, 0.00000000e+00,\n",
       "       3.91693449e-03, 7.56432098e-03, 1.69259930e-02, 2.49372985e-02,\n",
       "       8.16959263e-04, 7.75523118e-04, 7.09026056e-04, 7.73238093e-04,\n",
       "       2.38392639e-03, 0.00000000e+00, 2.06321236e-02, 3.93932995e-02,\n",
       "       4.57151203e-04, 3.75981531e-04, 2.71251897e-04, 0.00000000e+00,\n",
       "       4.84553302e-03, 1.15942083e-02, 2.62092021e-02, 7.26104767e-02,\n",
       "       1.78513316e-04, 0.00000000e+00, 0.00000000e+00, 1.44835824e-03,\n",
       "       5.40399739e-03, 1.53220983e-02, 0.00000000e+00, 1.52228929e-01,\n",
       "       7.83888874e-05, 0.00000000e+00, 1.09384067e-04, 3.89435576e-04,\n",
       "       0.00000000e+00, 4.42901875e-02, 0.00000000e+00, 3.84076310e-01,\n",
       "       5.66534232e-05, 3.49180349e-05, 4.81006991e-05, 0.00000000e+00,\n",
       "       5.39462173e-02, 1.61838652e-01, 3.87279551e-01, 0.00000000e+00])"
      ]
     },
     "execution_count": 42,
     "metadata": {},
     "output_type": "execute_result"
    }
   ],
   "source": [
    "V"
   ]
  },
  {
   "cell_type": "code",
   "execution_count": 43,
   "metadata": {},
   "outputs": [
    {
     "data": {
      "text/plain": [
       "array([[1., 0., 0., 0.],\n",
       "       [0., 1., 0., 0.],\n",
       "       [0., 0., 1., 0.],\n",
       "       [0., 0., 0., 1.]])"
      ]
     },
     "execution_count": 43,
     "metadata": {},
     "output_type": "execute_result"
    }
   ],
   "source": [
    " np.eye(env.nA)"
   ]
  },
  {
   "cell_type": "code",
   "execution_count": 44,
   "metadata": {},
   "outputs": [
    {
     "data": {
      "text/plain": [
       "array([0., 0., 1., 0.])"
      ]
     },
     "execution_count": 44,
     "metadata": {},
     "output_type": "execute_result"
    }
   ],
   "source": [
    " np.eye(env.nA)[2]"
   ]
  },
  {
   "cell_type": "code",
   "execution_count": 45,
   "metadata": {},
   "outputs": [
    {
     "name": "stdout",
     "output_type": "stream",
     "text": [
      "i=0\n",
      "policy got stable at 5\n"
     ]
    }
   ],
   "source": [
    "policy = np.ones([env.nS, env.nA]) / env.nA\n",
    "max_itr=1e9\n",
    "for i in range(int(max_itr)):\n",
    "    V=evaluate_policy(env, policy, gamma, verbose=False)\n",
    "    stable=True\n",
    "    for state in range(env.nS):\n",
    "        policy_action=np.argmax(policy[state])\n",
    "        action_values=calc_action_values(env, V, state, gamma) \n",
    "        best_action=np.argmax(action_values)\n",
    "        if policy_action!=best_action:\n",
    "            stable=False\n",
    "        policy[state] = np.eye(env.nA)[best_action]\n",
    "#         policy[state] = action_values\n",
    "\n",
    "    if stable:\n",
    "        print(f'policy got stable at {i}')\n",
    "        break\n",
    "    elif i%100==0:\n",
    "            print(f'i={i}')"
   ]
  },
  {
   "cell_type": "code",
   "execution_count": 46,
   "metadata": {},
   "outputs": [
    {
     "data": {
      "text/plain": [
       "array([0.99999999, 0.99999999, 0.99999999, 0.99999999, 0.99999999,\n",
       "       0.99999999, 0.99999999, 0.99999999, 0.99999999, 0.99999999,\n",
       "       0.99999999, 0.99999999, 0.99999999, 0.99999999, 0.99999999,\n",
       "       0.99999999, 0.99999998, 0.97820162, 0.9264305 , 0.        ,\n",
       "       0.85661767, 0.94623162, 0.9820772 , 0.99999999, 0.99999997,\n",
       "       0.93460488, 0.8010899 , 0.47490377, 0.62362139, 0.        ,\n",
       "       0.9446776 , 1.        , 0.99999996, 0.82561305, 0.54223432,\n",
       "       0.        , 0.53934275, 0.61118923, 0.85195561, 1.        ,\n",
       "       0.99999996, 0.        , 0.        , 0.16804079, 0.38321762,\n",
       "       0.44226933, 0.        , 1.        , 0.99999995, 0.        ,\n",
       "       0.19467346, 0.12090475, 0.        , 0.33240114, 0.        ,\n",
       "       1.        , 0.99999995, 0.73155779, 0.46311562, 0.        ,\n",
       "       0.27746705, 0.5549341 , 0.77746705, 0.        ])"
      ]
     },
     "execution_count": 46,
     "metadata": {},
     "output_type": "execute_result"
    }
   ],
   "source": [
    "V"
   ]
  },
  {
   "cell_type": "code",
   "execution_count": 47,
   "metadata": {},
   "outputs": [
    {
     "data": {
      "text/plain": [
       "array([[0., 1., 0., 0.],\n",
       "       [0., 0., 1., 0.],\n",
       "       [0., 0., 1., 0.]])"
      ]
     },
     "execution_count": 47,
     "metadata": {},
     "output_type": "execute_result"
    }
   ],
   "source": [
    "policy[:3]"
   ]
  },
  {
   "cell_type": "code",
   "execution_count": 48,
   "metadata": {},
   "outputs": [
    {
     "name": "stdout",
     "output_type": "stream",
     "text": [
      "→↓↓↓↓↓↓↓\n",
      "\n",
      "←←←←←←←↓\n",
      "\n",
      "↑↑↑↑↓←←↓\n",
      "\n",
      "↑↑↑→↑↑↓↓\n",
      "\n",
      "↑←↑↑↓→←↓\n",
      "\n",
      "↑↑↑→←↑↑↓\n",
      "\n",
      "↑↑→↑↑↑↑↓\n",
      "\n",
      "↑→↑↑→↓→↑\n",
      "\n"
     ]
    }
   ],
   "source": [
    "for i, action in enumerate( np.argmax(policy, axis=1) ):\n",
    "    print(action_mapping[action] , end='')\n",
    "    if (i+1)%8==0:\n",
    "        print('\\n')"
   ]
  },
  {
   "cell_type": "code",
   "execution_count": 50,
   "metadata": {},
   "outputs": [
    {
     "name": "stdout",
     "output_type": "stream",
     "text": [
      "total play 1000 total wins 873 total rewards 873.0\n",
      "success rate 87.3%\n"
     ]
    }
   ],
   "source": [
    "episodes=1000\n",
    "wins, rewards=play_episodes(policy, episodes=episodes)\n",
    "print(f'total play {episodes} total wins {wins} total rewards {rewards}')\n",
    "print(f'success rate {(wins/episodes)*100}%')"
   ]
  },
  {
   "cell_type": "code",
   "execution_count": null,
   "metadata": {},
   "outputs": [],
   "source": []
  },
  {
   "cell_type": "code",
   "execution_count": null,
   "metadata": {},
   "outputs": [],
   "source": []
  },
  {
   "cell_type": "code",
   "execution_count": null,
   "metadata": {},
   "outputs": [],
   "source": []
  },
  {
   "cell_type": "code",
   "execution_count": null,
   "metadata": {},
   "outputs": [],
   "source": []
  },
  {
   "cell_type": "code",
   "execution_count": null,
   "metadata": {},
   "outputs": [],
   "source": []
  },
  {
   "cell_type": "code",
   "execution_count": null,
   "metadata": {},
   "outputs": [],
   "source": []
  },
  {
   "cell_type": "code",
   "execution_count": null,
   "metadata": {},
   "outputs": [],
   "source": []
  },
  {
   "cell_type": "code",
   "execution_count": null,
   "metadata": {},
   "outputs": [],
   "source": []
  },
  {
   "cell_type": "code",
   "execution_count": null,
   "metadata": {},
   "outputs": [],
   "source": []
  }
 ],
 "metadata": {
  "kernelspec": {
   "display_name": "Python 3",
   "language": "python",
   "name": "python3"
  },
  "language_info": {
   "codemirror_mode": {
    "name": "ipython",
    "version": 3
   },
   "file_extension": ".py",
   "mimetype": "text/x-python",
   "name": "python",
   "nbconvert_exporter": "python",
   "pygments_lexer": "ipython3",
   "version": "3.7.6"
  }
 },
 "nbformat": 4,
 "nbformat_minor": 2
}
