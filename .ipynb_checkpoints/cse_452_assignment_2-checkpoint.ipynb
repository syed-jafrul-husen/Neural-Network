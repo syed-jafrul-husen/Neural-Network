{
 "cells": [
  {
   "cell_type": "markdown",
   "metadata": {},
   "source": [
    "#### CSE 452: Neural Networks and Fuzzy Systems Lab\n",
    "Summer-2020, Dept. of CSE, NEUB <br>"
   ]
  },
  {
   "cell_type": "markdown",
   "metadata": {},
   "source": [
    "#### Student Info\n",
    "<b>Name:</b> Syed Jafrul Husen<br>\n",
    "<b>Reg. No:</b> 170103020013"
   ]
  },
  {
   "cell_type": "markdown",
   "metadata": {},
   "source": [
    "## Assignment 2: Train ADALINE on IRIS data"
   ]
  },
  {
   "cell_type": "code",
   "execution_count": 1,
   "metadata": {},
   "outputs": [],
   "source": [
    "from sklearn import datasets\n",
    "import numpy as np  \n",
    "import matplotlib.pyplot as plt   "
   ]
  },
  {
   "cell_type": "code",
   "execution_count": 2,
   "metadata": {},
   "outputs": [
    {
     "name": "stdout",
     "output_type": "stream",
     "text": [
      "X: (100, 2)   y: (100,)\n"
     ]
    }
   ],
   "source": [
    "datas=datasets.load_iris()\n",
    "X=datas['data'][:100]      #first two class only.\n",
    "y=datas['target'][:100]\n",
    "# print(X.shape, y.shape)\n",
    "\n",
    "X=X[:,:2]  #first two column.\n",
    "\n",
    "# Standardize the data \n",
    "X=(X-X.mean(axis=0))/X.std(axis=0)\n",
    "# y=y.reshape(-1,1)\n",
    "print('X:',X.shape, '  y:',y.shape)"
   ]
  },
  {
   "cell_type": "code",
   "execution_count": 3,
   "metadata": {},
   "outputs": [
    {
     "name": "stdout",
     "output_type": "stream",
     "text": [
      "[-1 -1 -1 -1 -1 -1 -1 -1 -1 -1 -1 -1 -1 -1 -1 -1 -1 -1 -1 -1 -1 -1 -1 -1\n",
      " -1 -1 -1 -1 -1 -1 -1 -1 -1 -1 -1 -1 -1 -1 -1 -1 -1 -1 -1 -1 -1 -1 -1 -1\n",
      " -1 -1  1  1  1  1  1  1  1  1  1  1  1  1  1  1  1  1  1  1  1  1  1  1\n",
      "  1  1  1  1  1  1  1  1  1  1  1  1  1  1  1  1  1  1  1  1  1  1  1  1\n",
      "  1  1  1  1]\n"
     ]
    }
   ],
   "source": [
    "y[y==0]=-1\n",
    "print(y)"
   ]
  },
  {
   "cell_type": "code",
   "execution_count": 4,
   "metadata": {},
   "outputs": [
    {
     "data": {
      "image/png": "[encoded data removed]",
      "text/plain": [
       "<Figure size 432x288 with 1 Axes>"
      ]
     },
     "metadata": {
      "needs_background": "light"
     },
     "output_type": "display_data"
    }
   ],
   "source": [
    "plt.scatter(X[:,0], X[:,1], c=y, cmap='jet') \n",
    "plt.show()"
   ]
  },
  {
   "cell_type": "code",
   "execution_count": 5,
   "metadata": {},
   "outputs": [
    {
     "name": "stdout",
     "output_type": "stream",
     "text": [
      "Data shape: (100, 3)\n",
      "First five data\n",
      " [[ 1.         -0.5810659   0.84183714]\n",
      " [ 1.         -0.89430898 -0.2078351 ]\n",
      " [ 1.         -1.20755205  0.21203379]\n",
      " [ 1.         -1.36417359  0.00209934]\n",
      " [ 1.         -0.73768744  1.05177159]]\n"
     ]
    }
   ],
   "source": [
    "#don't run this cell twice because each time it adds a column full of 1\n",
    "X=np.c_[np.ones(X.shape[0]), X]  #adding a 1 in the first column to alleviate use of bias. \n",
    "print('Data shape:',X.shape)\n",
    "print('First five data\\n',X[:5])"
   ]
  },
  {
   "cell_type": "markdown",
   "metadata": {},
   "source": [
    "<b>Theory</b> <br>\n",
    "Let, y=target class, $y_{in}$=preactivation outptu, X= input vectors, w= weights\n",
    " \n",
    "Let, <br>\n",
    "y: Nx1 <br>\n",
    "X: NxD<br>\n",
    "w: 1xD<br>\n",
    "yin: w.X^T => (1xD).(DxN)=>(1xN)<br>\n",
    "dw: (1xN) <br>\n",
    "dw.X: (1xN).(NxD):1xD "
   ]
  },
  {
   "cell_type": "markdown",
   "metadata": {},
   "source": [
    "<b>Task 1: Output calculation</b>\n",
    "net output (preactivation)\n",
    "$$y_{in}=w.X^T$$\n",
    "\n",
    "Let, w=np.array( [ 0.3, 0.1, -0.4] )<br>\n",
    "First five values should be close to the following<br>\n",
    "[-0.09484145,  0.29370314,  0.09443128,  0.1627429 , -0.19447738]"
   ]
  },
  {
   "cell_type": "code",
   "execution_count": 6,
   "metadata": {},
   "outputs": [],
   "source": [
    "#your code goes here.\n",
    "def cal_y_in(X,w):\n",
    "    y_in = np.zeros([len(y)])\n",
    "    for i in range(len(y)):\n",
    "        y_in[i] = X[i][0]*w[0]+X[i][1]*w[1]+X[i][2]*w[2]\n",
    "    return y_in"
   ]
  },
  {
   "cell_type": "code",
   "execution_count": 7,
   "metadata": {},
   "outputs": [
    {
     "name": "stdout",
     "output_type": "stream",
     "text": [
      "[-0.09484145  0.29370314  0.09443128  0.1627429  -0.19447738]\n"
     ]
    }
   ],
   "source": [
    "w=np.array( [ 0.3, 0.1, -0.4] )\n",
    "y_in = cal_y_in(X,w)\n",
    "print(y_in[:5])"
   ]
  },
  {
   "cell_type": "markdown",
   "metadata": {},
   "source": [
    "<b>Task 2: Update</b>\n",
    "update rule.\n",
    "$$w :=w+ \\eta(y-y_{in})X/N $$\n",
    "which can be written as,<br>\n",
    "$$dw= y-y_{in} $$\n",
    "$$w :=w+ \\eta(dw.X)/N $$\n",
    "\n",
    "Let, eta=0.01<br>\n",
    "Updated w should like below<br>\n",
    "w=[ 2.22044605e-16,  6.45919846e-01, -6.70091761e-01]"
   ]
  },
  {
   "cell_type": "code",
   "execution_count": 8,
   "metadata": {},
   "outputs": [],
   "source": [
    "def update_w(eta,y,y_in,X):\n",
    "    eta = 0.01\n",
    "    for i in range(len(y)):\n",
    "        error = y[i] - y_in[i]\n",
    "        for j in range(3):\n",
    "            w[j] = w[j]+(eta*error*X[i][j])\n",
    "    return w"
   ]
  },
  {
   "cell_type": "code",
   "execution_count": 9,
   "metadata": {},
   "outputs": [
    {
     "name": "stdout",
     "output_type": "stream",
     "text": [
      "[ 2.34187669e-16  6.45919846e-01 -6.70091761e-01]\n"
     ]
    }
   ],
   "source": [
    "eta = 0.01\n",
    "w = update_w(eta,y,y_in,X)\n",
    "print(w)"
   ]
  },
  {
   "cell_type": "markdown",
   "metadata": {},
   "source": [
    "<b>Task 3: calculate loss</b>\n",
    "$$E=(y-y_{in})^2$$\n",
    "\n",
    "Output should look like or close to 0.5782685616058213"
   ]
  },
  {
   "cell_type": "code",
   "execution_count": 10,
   "metadata": {},
   "outputs": [],
   "source": [
    "#your code goes here.\n",
    "def cal_loss(y,y_in):\n",
    "    loss = 0\n",
    "    for i in range(len(y)):\n",
    "        loss = loss + ((y[i]-y_in[i])*(y[i]-y_in[i]))\n",
    "    loss = loss/len(y)\n",
    "    return loss"
   ]
  },
  {
   "cell_type": "code",
   "execution_count": 11,
   "metadata": {},
   "outputs": [
    {
     "name": "stdout",
     "output_type": "stream",
     "text": [
      "0.578268561605821\n"
     ]
    }
   ],
   "source": [
    "loss = cal_loss(y,y_in)\n",
    "print(loss)"
   ]
  },
  {
   "cell_type": "markdown",
   "metadata": {},
   "source": [
    "<b>Task 4: Train Adaline</b>\n",
    "\n",
    "Algorithm.<br>\n",
    "Choose learning rate eta=0.01 (try with different values)<br>\n",
    "w=randomly initialize<br>\n",
    "Repeat the following steps (1,2,3) for n time. Let, say n=1000<br>\n",
    "1. calculate yin for all the data.\n",
    "2. $dw=(y-y_{in})$\n",
    "3. update w. $w :=w+ \\eta (dw.x)/N $\n",
    "4. calculate and record loss\n",
    "\n",
    "Finally,\n",
    "print w<br>\n",
    "Plot loss<br>\n",
    "Adjust number epoch and re-train<br>\n",
    "classify all the data  $yout=sign(w.X^T)$<br>\n",
    "plot decision boundary <br>\n",
    "Calculate accuracy."
   ]
  },
  {
   "cell_type": "code",
   "execution_count": 12,
   "metadata": {},
   "outputs": [
    {
     "name": "stdout",
     "output_type": "stream",
     "text": [
      "[ 2.36703018e-15  6.12013126e-01 -5.64655071e-01]\n"
     ]
    }
   ],
   "source": [
    "#your code goes here.\n",
    "eta = 0.01\n",
    "n = 1000\n",
    "loss = np.zeros([n])\n",
    "w=np.random.rand(len(X[0]))#randomly intialize w\n",
    "epoch = 0\n",
    "for k in range(n):\n",
    "    y_in = cal_y_in(X,w)\n",
    "    w = update_w(eta,y,y_in,X)\n",
    "    loss[k] = cal_loss(y,y_in)\n",
    "    \n",
    "    if(loss[k]!=loss[k-1]):\n",
    "        epoch = epoch + 1\n",
    "print(w)"
   ]
  },
  {
   "cell_type": "code",
   "execution_count": 13,
   "metadata": {},
   "outputs": [
    {
     "name": "stdout",
     "output_type": "stream",
     "text": [
      "Loss History\n"
     ]
    },
    {
     "data": {
      "image/png": "[encoded data removed]",
      "text/plain": [
       "<Figure size 432x288 with 1 Axes>"
      ]
     },
     "metadata": {
      "needs_background": "light"
     },
     "output_type": "display_data"
    }
   ],
   "source": [
    "print('Loss History')\n",
    "#print(loss)\n",
    "plt.plot(loss)  \n",
    "plt.show()"
   ]
  },
  {
   "cell_type": "code",
   "execution_count": 14,
   "metadata": {},
   "outputs": [
    {
     "name": "stdout",
     "output_type": "stream",
     "text": [
      "996\n",
      "[ 2.36703018e-15  6.12013126e-01 -5.64655071e-01]\n"
     ]
    }
   ],
   "source": [
    "# Now retrained\n",
    "print(epoch)\n",
    "eta = 0.01\n",
    "n = 1000\n",
    "loss = np.zeros([n])\n",
    "w=np.random.rand(len(X[0]))#randomly intialize w\n",
    "for k in range(epoch):\n",
    "    y_in = cal_y_in(X,w)\n",
    "    w = update_w(eta,y,y_in,X)\n",
    "    loss[k] = cal_loss(y,y_in)\n",
    "    \n",
    "    if(loss[k]!=loss[k-1]):\n",
    "        epoch = epoch + 1\n",
    "print(w)"
   ]
  },
  {
   "cell_type": "code",
   "execution_count": 15,
   "metadata": {},
   "outputs": [
    {
     "name": "stdout",
     "output_type": "stream",
     "text": [
      "[-1. -1. -1. -1. -1. -1. -1. -1. -1. -1. -1. -1. -1. -1. -1. -1. -1. -1.\n",
      " -1. -1. -1. -1. -1. -1. -1. -1. -1. -1. -1. -1. -1. -1. -1. -1. -1. -1.\n",
      " -1. -1. -1. -1. -1.  1. -1. -1. -1. -1. -1. -1. -1. -1.  1.  1.  1.  1.\n",
      "  1.  1.  1.  1.  1.  1.  1.  1.  1.  1.  1.  1.  1.  1.  1.  1.  1.  1.\n",
      "  1.  1.  1.  1.  1.  1.  1.  1.  1.  1.  1.  1.  1.  1.  1.  1.  1.  1.\n",
      "  1.  1.  1.  1.  1.  1.  1.  1.  1.  1.]\n"
     ]
    }
   ],
   "source": [
    "#Classify all the data\n",
    "y_out = np.zeros([len(y)])\n",
    "for i in range(len(y)):\n",
    "    y_out[i] = X[i][0]*w[0] + X[i][1]*w[1] + X[i][2]*w[2]\n",
    "    if(y_out[i]>0):\n",
    "        y_out[i] = 1\n",
    "    else:\n",
    "        y_out[i] = -1\n",
    "print(y_out)"
   ]
  },
  {
   "cell_type": "code",
   "execution_count": 16,
   "metadata": {},
   "outputs": [
    {
     "data": {
      "image/png": "[encoded data removed]",
      "text/plain": [
       "<Figure size 432x288 with 1 Axes>"
      ]
     },
     "metadata": {
      "needs_background": "light"
     },
     "output_type": "display_data"
    }
   ],
   "source": [
    "nx=np.arange(-2,2.5,0.1)\n",
    "#ax+by+c=0\n",
    "ny=-(w[1]*nx+w[0])/w[2]\n",
    "\n",
    "plt.scatter(X[:,1],X[:, 2],marker='o', c=y, cmap='jet')  \n",
    "plt.plot(nx, ny )  \n",
    "plt.show()"
   ]
  },
  {
   "cell_type": "code",
   "execution_count": 17,
   "metadata": {},
   "outputs": [
    {
     "name": "stdout",
     "output_type": "stream",
     "text": [
      "Accuracy =  99.0 %\n"
     ]
    }
   ],
   "source": [
    "accuracy = 0.0\n",
    "for i in range(len(y)):\n",
    "    if(y[i]==y_out[i]):\n",
    "        accuracy = accuracy + 1\n",
    "accuracy = (accuracy/len(y))*100\n",
    "print('Accuracy = ',accuracy,'%')"
   ]
  },
  {
   "cell_type": "markdown",
   "metadata": {},
   "source": [
    "<b>Task 5: plot decision boundary</b>"
   ]
  },
  {
   "cell_type": "code",
   "execution_count": 18,
   "metadata": {},
   "outputs": [
    {
     "data": {
      "text/plain": [
       "(490000, 3)"
      ]
     },
     "execution_count": 18,
     "metadata": {},
     "output_type": "execute_result"
    }
   ],
   "source": [
    "xd=np.arange(-3, 3+1, 0.01)\n",
    "yd=np.arange(-3,3+1, 0.01)\n",
    "xx,yy=np.meshgrid(xd,yd)\n",
    "nx=np.array([xx.flatten(), yy.flatten()]).T\n",
    "nx=np.c_[np.ones(nx.shape[0]), nx]\n",
    "nx.shape"
   ]
  },
  {
   "cell_type": "code",
   "execution_count": 19,
   "metadata": {},
   "outputs": [
    {
     "name": "stdout",
     "output_type": "stream",
     "text": [
      "[-1 -1 -1 ...  1  1  1]\n"
     ]
    }
   ],
   "source": [
    "#your code goes here.\n",
    "#classify all the data (nx)\n",
    "#out= \n",
    "out=[]\n",
    "for x in nx:\n",
    "    t = sum(x*w)\n",
    "    if(t>0):\n",
    "        t = 1;\n",
    "    else:\n",
    "        t = -1\n",
    "    out.append(t)\n",
    "out=np.array(out)\n",
    "print(out)\n"
   ]
  },
  {
   "cell_type": "code",
   "execution_count": 20,
   "metadata": {},
   "outputs": [
    {
     "data": {
      "image/png": "[encoded data removed]",
      "text/plain": [
       "<Figure size 432x288 with 1 Axes>"
      ]
     },
     "metadata": {
      "needs_background": "light"
     },
     "output_type": "display_data"
    }
   ],
   "source": [
    "out=out.reshape(xx.shape) \n",
    "plt.contourf(xx, yy, out, alpha=0.7 )\n",
    "plt.scatter(X[:,1],X[:, 2],marker='o', c=y, cmap='jet') \n",
    "plt.show()"
   ]
  },
  {
   "cell_type": "markdown",
   "metadata": {},
   "source": [
    "### Submission"
   ]
  },
  {
   "cell_type": "markdown",
   "metadata": {},
   "source": [
    "1. Complete The Honor Code\n",
    "2. Submit this notebook file to google classroom.\n",
    "\n",
    "<b>Comment on google classroom if you have any questions</b>"
   ]
  },
  {
   "cell_type": "markdown",
   "metadata": {},
   "source": [
    "### Honor Code\n",
    "Plese type the following in the next cell. Replace the underlined text with your own. "
   ]
  },
  {
   "cell_type": "markdown",
   "metadata": {},
   "source": [
    "I am <u>Syed Jafrul Husen</u> bearing registration no. <u>170103020013</u> hereby declaring that I myself did my assignments, I didn't directly copy any code from others. I have a complete understanding of my code and can explain. I respect this honor code and I believe it will be useful to maintain academic integrity.<br>\n",
    "\n",
    "Name: <u>Syed Jafrul Husen</u><br>\n",
    "Date: <u>26/07/2020</u>"
   ]
  },
  {
   "cell_type": "markdown",
   "metadata": {},
   "source": [
    "_your__writing_"
   ]
  }
 ],
 "metadata": {
  "kernelspec": {
   "display_name": "Python 3",
   "language": "python",
   "name": "python3"
  },
  "language_info": {
   "codemirror_mode": {
    "name": "ipython",
    "version": 3
   },
   "file_extension": ".py",
   "mimetype": "text/x-python",
   "name": "python",
   "nbconvert_exporter": "python",
   "pygments_lexer": "ipython3",
   "version": "3.7.6"
  },
  "metadata": {
   "deletable": false,
   "editable": false,
   "trusted": true
  }
 },
 "nbformat": 4,
 "nbformat_minor": 2
}
