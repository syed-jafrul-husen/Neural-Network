{
 "cells": [
  {
   "cell_type": "markdown",
   "metadata": {},
   "source": [
    "#### CSE 452: Neural Networks and Fuzzy Systems Lab\n",
    "Summer-2020, Dept. of CSE, NEUB <br>"
   ]
  },
  {
   "cell_type": "markdown",
   "metadata": {},
   "source": [
    "#### Student Info\n",
    "<b>Name:</b> Syed Jafrul Husen<br>\n",
    "<b>Reg. No:</b> 170103020013"
   ]
  },
  {
   "cell_type": "markdown",
   "metadata": {},
   "source": [
    "## Assignment 3: Hopfield\n",
    "\n",
    "$$ dw=x.x^T -I \\space \\space \\\\ where \\space \\space I =\\space identity \\space matrix.$$  \n",
    "$$w=w+dw$$\n",
    "\n",
    "<b>Energy</b>\n",
    "$$E=\\frac{−1}{2} \\sum_{j=1}^n  \\sum_{i=1}^n w_{ij}x_i x_j$$\n",
    "\n",
    "In terms of linear algebra, simpler version is \n",
    "$$E = -\\frac{1}{2} x^T.W.x$$"
   ]
  },
  {
   "cell_type": "code",
   "execution_count": 1,
   "metadata": {},
   "outputs": [],
   "source": [
    "import numpy as np  \n",
    "import matplotlib.pyplot as plt   "
   ]
  },
  {
   "cell_type": "code",
   "execution_count": 2,
   "metadata": {},
   "outputs": [],
   "source": [
    "#Neurons=9\n",
    "N=9"
   ]
  },
  {
   "cell_type": "code",
   "execution_count": 3,
   "metadata": {},
   "outputs": [],
   "source": [
    "x1=np.array([1,1,1, 0,0,0, 0,0,0])\n",
    "x2=np.array([0,0,0, 0,0,0, 1,1,1])\n",
    "x3=np.array([0,0,0, 1,1,1, 0,0,0])"
   ]
  },
  {
   "cell_type": "code",
   "execution_count": 4,
   "metadata": {},
   "outputs": [
    {
     "name": "stdout",
     "output_type": "stream",
     "text": [
      "[[0. 0. 0. 0. 0. 0. 0. 0. 0.]\n",
      " [0. 0. 0. 0. 0. 0. 0. 0. 0.]\n",
      " [0. 0. 0. 0. 0. 0. 0. 0. 0.]\n",
      " [0. 0. 0. 0. 0. 0. 0. 0. 0.]\n",
      " [0. 0. 0. 0. 0. 0. 0. 0. 0.]\n",
      " [0. 0. 0. 0. 0. 0. 0. 0. 0.]\n",
      " [0. 0. 0. 0. 0. 0. 0. 0. 0.]\n",
      " [0. 0. 0. 0. 0. 0. 0. 0. 0.]\n",
      " [0. 0. 0. 0. 0. 0. 0. 0. 0.]]\n"
     ]
    }
   ],
   "source": [
    "w=np.zeros((N,N))\n",
    "print(w)"
   ]
  },
  {
   "cell_type": "markdown",
   "metadata": {},
   "source": [
    "<b>Task 1: Train x1</b>\n",
    "Train x1 and update w and calculate energy.<br>\n",
    "<b>updated w</b> should look like the following. <br>\n",
    "       [ 0.,  1.,  1., -1., -1., -1., -1., -1., -1.],<br>\n",
    "       [ 1.,  0.,  1., -1., -1., -1., -1., -1., -1.],<br>\n",
    "       [ 1.,  1.,  0., -1., -1., -1., -1., -1., -1.],<br>\n",
    "       [-1., -1., -1.,  0.,  1.,  1.,  1.,  1.,  1.],<br>\n",
    "       [-1., -1., -1.,  1.,  0.,  1.,  1.,  1.,  1.],<br>\n",
    "       [-1., -1., -1.,  1.,  1.,  0.,  1.,  1.,  1.],<br>\n",
    "       [-1., -1., -1.,  1.,  1.,  1.,  0.,  1.,  1.],<br>\n",
    "       [-1., -1., -1.,  1.,  1.,  1.,  1.,  0.,  1.],<br>\n",
    "       [-1., -1., -1.,  1.,  1.,  1.,  1.,  1.,  0.]]<br>\n",
    "       \n",
    "energy should be=-36"
   ]
  },
  {
   "cell_type": "code",
   "execution_count": 5,
   "metadata": {},
   "outputs": [],
   "source": [
    "#your code goes here.\n",
    "for i in range(len(x1)):\n",
    "    if(x1[i]==0):\n",
    "        x1[i] = -1\n",
    "        \n",
    "for i in range(len(x2)):\n",
    "    if(x2[i]==0):\n",
    "        x2[i] = -1\n",
    "for i in range(len(x3)):\n",
    "    if(x3[i]==0):\n",
    "        x3[i] = -1"
   ]
  },
  {
   "cell_type": "code",
   "execution_count": 6,
   "metadata": {},
   "outputs": [],
   "source": [
    "#Identity Matrix\n",
    "I=np.zeros((N,N))\n",
    "for i in range(N):\n",
    "    for j in range(N):\n",
    "        if(i==j):\n",
    "            I[i][j] = 1"
   ]
  },
  {
   "cell_type": "code",
   "execution_count": 7,
   "metadata": {},
   "outputs": [],
   "source": [
    "def cal_del_w(w,x):\n",
    "    del_w = np.zeros([len(x),len(x)])\n",
    "    for i in range(len(x)):\n",
    "        for j in range(len(x)):\n",
    "            del_w[i][j] = x[i]*x[j]\n",
    "\n",
    "    del_w = np.subtract(del_w,I)\n",
    "    return del_w"
   ]
  },
  {
   "cell_type": "code",
   "execution_count": 8,
   "metadata": {},
   "outputs": [
    {
     "name": "stdout",
     "output_type": "stream",
     "text": [
      "[[ 0.  1.  1. -1. -1. -1. -1. -1. -1.]\n",
      " [ 1.  0.  1. -1. -1. -1. -1. -1. -1.]\n",
      " [ 1.  1.  0. -1. -1. -1. -1. -1. -1.]\n",
      " [-1. -1. -1.  0.  1.  1.  1.  1.  1.]\n",
      " [-1. -1. -1.  1.  0.  1.  1.  1.  1.]\n",
      " [-1. -1. -1.  1.  1.  0.  1.  1.  1.]\n",
      " [-1. -1. -1.  1.  1.  1.  0.  1.  1.]\n",
      " [-1. -1. -1.  1.  1.  1.  1.  0.  1.]\n",
      " [-1. -1. -1.  1.  1.  1.  1.  1.  0.]]\n"
     ]
    }
   ],
   "source": [
    "del_w = cal_del_w(w,x1)\n",
    "w = np.add(del_w,w)\n",
    "print(del_w)"
   ]
  },
  {
   "cell_type": "code",
   "execution_count": 9,
   "metadata": {},
   "outputs": [
    {
     "name": "stdout",
     "output_type": "stream",
     "text": [
      "Energy:  -36.0\n"
     ]
    }
   ],
   "source": [
    "energy = -0.5*np.dot(x1,(np.dot(w,x1.T)))\n",
    "print('Energy: ',energy)"
   ]
  },
  {
   "cell_type": "markdown",
   "metadata": {},
   "source": [
    "<b>Task 2: Train x2</b>\n",
    "Train x2 and update w and calculate energy.<br>"
   ]
  },
  {
   "cell_type": "code",
   "execution_count": 10,
   "metadata": {},
   "outputs": [
    {
     "name": "stdout",
     "output_type": "stream",
     "text": [
      "[[ 0.  1.  1.  1.  1.  1. -1. -1. -1.]\n",
      " [ 1.  0.  1.  1.  1.  1. -1. -1. -1.]\n",
      " [ 1.  1.  0.  1.  1.  1. -1. -1. -1.]\n",
      " [ 1.  1.  1.  0.  1.  1. -1. -1. -1.]\n",
      " [ 1.  1.  1.  1.  0.  1. -1. -1. -1.]\n",
      " [ 1.  1.  1.  1.  1.  0. -1. -1. -1.]\n",
      " [-1. -1. -1. -1. -1. -1.  0.  1.  1.]\n",
      " [-1. -1. -1. -1. -1. -1.  1.  0.  1.]\n",
      " [-1. -1. -1. -1. -1. -1.  1.  1.  0.]]\n"
     ]
    }
   ],
   "source": [
    "#your code goes here.\n",
    "del_w = cal_del_w(w,x2)\n",
    "w = np.add(del_w,w)\n",
    "print(del_w)"
   ]
  },
  {
   "cell_type": "code",
   "execution_count": 11,
   "metadata": {},
   "outputs": [
    {
     "name": "stdout",
     "output_type": "stream",
     "text": [
      "Energy:  -36.0\n"
     ]
    }
   ],
   "source": [
    "energy = -0.5*np.dot(x2,(np.dot(w,x2.T)))\n",
    "print('Energy: ',energy)"
   ]
  },
  {
   "cell_type": "markdown",
   "metadata": {},
   "source": [
    "<b>Task 3: Train x3</b>\n",
    "Train x3 and update w and calculate energy.<br>"
   ]
  },
  {
   "cell_type": "code",
   "execution_count": 12,
   "metadata": {},
   "outputs": [
    {
     "name": "stdout",
     "output_type": "stream",
     "text": [
      "[[ 0.  1.  1. -1. -1. -1.  1.  1.  1.]\n",
      " [ 1.  0.  1. -1. -1. -1.  1.  1.  1.]\n",
      " [ 1.  1.  0. -1. -1. -1.  1.  1.  1.]\n",
      " [-1. -1. -1.  0.  1.  1. -1. -1. -1.]\n",
      " [-1. -1. -1.  1.  0.  1. -1. -1. -1.]\n",
      " [-1. -1. -1.  1.  1.  0. -1. -1. -1.]\n",
      " [ 1.  1.  1. -1. -1. -1.  0.  1.  1.]\n",
      " [ 1.  1.  1. -1. -1. -1.  1.  0.  1.]\n",
      " [ 1.  1.  1. -1. -1. -1.  1.  1.  0.]]\n"
     ]
    }
   ],
   "source": [
    "#your code goes here.\n",
    "del_w = cal_del_w(w,x3)\n",
    "w = np.add(del_w,w)\n",
    "print(del_w)"
   ]
  },
  {
   "cell_type": "code",
   "execution_count": 13,
   "metadata": {},
   "outputs": [
    {
     "name": "stdout",
     "output_type": "stream",
     "text": [
      "Energy:  -36.0\n"
     ]
    }
   ],
   "source": [
    "energy = -0.5*np.dot(x3,(np.dot(w,x3.T)))\n",
    "print('Energy: ',energy)"
   ]
  },
  {
   "cell_type": "markdown",
   "metadata": {},
   "source": [
    "<b>Task 4: Asynchronous recovery</b> <br>\n",
    "tx=np.array([0,0,0, 1,0,0, 0,0,0])  <br>\n",
    "\n",
    "1. choose i randomly\n",
    "2. update ith element of partial pattern tx \n",
    "3. Repeat step 2 for some time.\n",
    "\n",
    "$$x_i=sign(w_i.x)$$\n",
    "\n",
    "It should converge to a known pattern <br>[0, 0, 0, 1, 1, 1, 0, 0, 0]"
   ]
  },
  {
   "cell_type": "code",
   "execution_count": 14,
   "metadata": {},
   "outputs": [],
   "source": [
    "from random import seed\n",
    "from random import randint"
   ]
  },
  {
   "cell_type": "code",
   "execution_count": 15,
   "metadata": {},
   "outputs": [
    {
     "name": "stdout",
     "output_type": "stream",
     "text": [
      "[-1 -1 -1  1  1  1 -1 -1 -1]\n"
     ]
    }
   ],
   "source": [
    "#your code goes here.\n",
    "tx=np.array([0,0,0, 1,0,0, 0,0,0])\n",
    "for i in range(len(tx)):\n",
    "    if(tx[i]==0):\n",
    "        tx[i] = -1\n",
    "for k in range(100000):\n",
    "    idx = randint(0, len(tx)-1)\n",
    "    #print(idx)\n",
    "    temp_w = np.zeros([len(tx)])\n",
    "    for i in range(len(tx)):\n",
    "        temp_w[i] = w[idx][i]\n",
    "    x = np.dot(temp_w,tx)\n",
    "    if(x>0):\n",
    "        x = 1\n",
    "    else:\n",
    "        x = -1\n",
    "    tx[idx] = x\n",
    "    \n",
    "    cmp = tx==x1\n",
    "    if(cmp.all()):\n",
    "        break\n",
    "    \n",
    "    cmp = tx==x2\n",
    "    if(cmp.all()):\n",
    "        break\n",
    "    \n",
    "    cmp = tx==x3\n",
    "    if(cmp.all()):\n",
    "        break\n",
    "    \n",
    "print(tx)\n",
    "#print(k)"
   ]
  },
  {
   "cell_type": "code",
   "execution_count": 16,
   "metadata": {},
   "outputs": [
    {
     "name": "stdout",
     "output_type": "stream",
     "text": [
      "[0 0 0 1 1 1 0 0 0]\n"
     ]
    }
   ],
   "source": [
    "for i in range(len(tx)):\n",
    "    if(tx[i]==-1):\n",
    "        tx[i] = 0\n",
    "print(tx)"
   ]
  },
  {
   "cell_type": "markdown",
   "metadata": {},
   "source": [
    "### Submission"
   ]
  },
  {
   "cell_type": "markdown",
   "metadata": {},
   "source": [
    "1. Complete The Honor Code\n",
    "2. Submit this notebook file to google classroom.\n",
    "\n",
    "<b>Comment on google classroom if you have any questions</b>"
   ]
  },
  {
   "cell_type": "markdown",
   "metadata": {},
   "source": [
    "### Honor Code\n",
    "Plese type the following in the next cell. Replace the underlined text with your own. "
   ]
  },
  {
   "cell_type": "markdown",
   "metadata": {},
   "source": [
    "I am <u>Syed Jafrul Husen</u> bearing registration no. <u>170103020013</u> hereby declaring that I myself did my assignments, I didn't directly copy any code from others. I have a complete understanding of my code and can explain. I respect this honor code and I believe it will be useful to maintain academic integrity.<br>\n",
    "\n",
    "Name: <u>Syed Jafrul Husen</u><br>\n",
    "Date: <u>26/07/2020</u>"
   ]
  },
  {
   "cell_type": "markdown",
   "metadata": {},
   "source": [
    "_your__writing_"
   ]
  }
 ],
 "metadata": {
  "kernelspec": {
   "display_name": "Python 3",
   "language": "python",
   "name": "python3"
  },
  "language_info": {
   "codemirror_mode": {
    "name": "ipython",
    "version": 3
   },
   "file_extension": ".py",
   "mimetype": "text/x-python",
   "name": "python",
   "nbconvert_exporter": "python",
   "pygments_lexer": "ipython3",
   "version": "3.7.6"
  },
  "metadata": {
   "deletable": false,
   "editable": false,
   "trusted": true
  }
 },
 "nbformat": 4,
 "nbformat_minor": 2
}
